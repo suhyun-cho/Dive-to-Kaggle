{
 "cells": [
  {
   "cell_type": "markdown",
   "metadata": {},
   "source": [
    "# House Prices\n",
    "## 3. A Study on Regression Applied to the Ames Dataset\n",
    "[캐글]: https://www.kaggle.com/c/house-prices-advanced-regression-techniques <br>\n",
    "[참고 커널모음] :https://subinium.github.io/kaggle-tutorial/house-prices <br>\n",
    "\n",
    "#### Python Tutorials\n",
    "아래 튜토리얼 하나씩 필사할 예정\n",
    "\n",
    "> * 1. Comprehensive Data Exploration with Python (필사 시작일 : 2020-09-01)\n",
    "https://www.kaggle.com/pmarcelino/comprehensive-data-exploration-with-python\n",
    "\n",
    "> * 2. House Prices EDA (필사 시작일 : 2020-09-04) (마무리한 날짜: 2020-10-25)\n",
    "https://www.kaggle.com/dgawlik/house-prices-eda\n",
    "\n",
    "> * 3. A Study on Regression Applied to the Ames Dataset (필사 시작일 :2020-11-15)\n",
    "https://www.kaggle.com/juliencs/a-study-on-regression-applied-to-the-ames-dataset\n",
    "\n",
    "> * 4. Regularized Linear Models\n",
    "https://www.kaggle.com/apapiu/regularized-linear-models\n",
    "\n",
    "\n"
   ]
  },
  {
   "cell_type": "markdown",
   "metadata": {},
   "source": [
    "--------------------------------------------------------------------------------\n",
    "# [정리]\n",
    "\n",
    "### Data-Preprocessing\n",
    "* 결측치 처리방식\n",
    "    * 데이터의 형태별로 0으로 채우거나, 실제 없는 값일경우 No, None등으로 채움<br>\n",
    "    <br>\n",
    "* 카테고리변수 전처리\n",
    "    * MoSold 변수는 month를 나타내는데, 숫자 1,2,3,, 으로 되어있어서 이를 Jan, Feb,,, 이렇게 문자로 바꿔줌<br>\n",
    "    <br>\n",
    "* 순서를 나타내는 카테고리 전처리\n",
    "    * GarageQual 퀄리티가 나쁨, 중간, 좋음 이런식의 순서가 있는 변수일 경우 나쁨->1, 중간->2,좋음->3,,이런식으로 넘버링 해준다.<br>\n",
    "    <br>\n",
    "\n",
    "* 새로운 컬럼 만들기 \n",
    "    >  * 존재하는 feature들을 단순화\n",
    "        * ex) 퀄리티가 1부터 10까지 다양하게 있으면, 이걸 범주화해서 1~3은 1로, 4~6은 2로, 7~10은 3으로.\n",
    "    * 존재하는 Feature들 조합\n",
    "        * ex) Qual와 Cond의 곱으로 %Grade라는 컬럼을 새로 만듬.\n",
    "        * ex) 주차장 면적과 주차장Quality를 곱해서 주차장 score 변수를 만듬.\n",
    "        * ex) 1층넓이 변수와 2층넓이변수가 있으면 Total넓이라는 변수로 두 변수를 더해서 만듬.\n",
    "    * 상위10개 Feature로 다항식\n",
    "        * 상위 10개 feature를 가지고 2제곱, 3제곱, 제곱근항을 각각 세개씩 만듬.\n",
    "\n",
    "* 수치형 변수와 범주형 변수를 따로 저장.\n",
    "    * select_dtypes() 함수\n",
    "        * 범주형 데이터타입인 컬럼만 따로 빼올수있음. 반대로, 범주형이아닌 변수도 따로 뺄 수 있음.\n",
    "\n",
    "* 수치형 변수에있는 결측치를 median값으로 채운다\n",
    "* 비대칭(skew) 수치형변수 처리\n",
    "    * 아웃라이어의 영향을 줄이기위해서 비대칭(skew)한 수치형 변수들을 로그변환한다.\n",
    "* one-hot encoding으로 범주형에 대해서 더미변수를 만든다.\n"
   ]
  },
  {
   "cell_type": "markdown",
   "metadata": {},
   "source": [
    "--------------------------------------------------------------------------------\n",
    "### Modeling\n",
    "> * Scaling\n",
    "    * train_test_split으로 X_train,X_test,y_train,y_test로 데이터 나눈다음 X_train, X_test에만 스케일링 적용.\n",
    "    * y는 이미 사전에 로그변환 취한 상태. <br>\n",
    "<br>\n",
    "* Cross-validation\n",
    "    * fold=10으로해서 교차검증을 하고, RMSE로 평가<br>\n",
    "\n",
    "\n",
    "**(1) 회귀모델 (without Regularization)**\n",
    "* RMSE on Test set : 0.395779797728\n",
    "\n",
    "**(2) Ridge(L2 penalty)**\n",
    "* Ridge RMSE on Test set : 0.116427213778\n",
    "    * 계수(coefficeint)로 변수의 중요도 판단가능할듯..(계수가 큰 상위10개, 작은것 10개)\n",
    "\n",
    "**(3) Lasso(L1 penalty)**\n",
    "* Lasso RMSE on Test set : 0.115832132218\n",
    "\n",
    "**(4) ElasticNet regularization(L1 and L2 penalty)**\n",
    "* ElasticNet RMSE on Test set : 0.115832132218\n",
    "\n"
   ]
  },
  {
   "cell_type": "markdown",
   "metadata": {},
   "source": [
    "-------------------------------------------------\n",
    "이 커널에서는 Regularization알고리즘을 포함한 선형회귀에 대해 다룬다.  <br>\n",
    "RF,  xgboost, ensembling etc. 등을 사용하지 않고 선형회귀만으로 0.121 이라는 스코어획득함."
   ]
  },
  {
   "cell_type": "code",
   "execution_count": 1,
   "metadata": {},
   "outputs": [],
   "source": [
    "# Imports\n",
    "import pandas as pd\n",
    "import numpy as np\n",
    "from sklearn.model_selection import cross_val_score, train_test_split\n",
    "from sklearn.preprocessing import StandardScaler\n",
    "from sklearn.linear_model import LinearRegression, RidgeCV, LassoCV, ElasticNetCV\n",
    "from sklearn.metrics import mean_squared_error, make_scorer\n",
    "from scipy.stats import skew\n",
    "from IPython.display import display\n",
    "import matplotlib.pyplot as plt\n",
    "import seaborn as sns\n",
    "\n",
    "# Definitions\n",
    "pd.set_option('display.float_format', lambda x: '%.3f' % x)\n",
    "%matplotlib inline\n",
    "#njobs = 4"
   ]
  },
  {
   "cell_type": "code",
   "execution_count": 2,
   "metadata": {},
   "outputs": [
    {
     "name": "stdout",
     "output_type": "stream",
     "text": [
      "train : (1460, 81)\n"
     ]
    }
   ],
   "source": [
    "# Get data\n",
    "train = pd.read_csv(\"./data/train.csv\")\n",
    "print(\"train : \" + str(train.shape))"
   ]
  },
  {
   "cell_type": "code",
   "execution_count": 3,
   "metadata": {},
   "outputs": [
    {
     "data": {
      "text/html": [
       "<div>\n",
       "<style scoped>\n",
       "    .dataframe tbody tr th:only-of-type {\n",
       "        vertical-align: middle;\n",
       "    }\n",
       "\n",
       "    .dataframe tbody tr th {\n",
       "        vertical-align: top;\n",
       "    }\n",
       "\n",
       "    .dataframe thead th {\n",
       "        text-align: right;\n",
       "    }\n",
       "</style>\n",
       "<table border=\"1\" class=\"dataframe\">\n",
       "  <thead>\n",
       "    <tr style=\"text-align: right;\">\n",
       "      <th></th>\n",
       "      <th>Id</th>\n",
       "      <th>MSSubClass</th>\n",
       "      <th>MSZoning</th>\n",
       "      <th>LotFrontage</th>\n",
       "      <th>LotArea</th>\n",
       "      <th>Street</th>\n",
       "      <th>Alley</th>\n",
       "      <th>LotShape</th>\n",
       "      <th>LandContour</th>\n",
       "      <th>Utilities</th>\n",
       "      <th>...</th>\n",
       "      <th>PoolArea</th>\n",
       "      <th>PoolQC</th>\n",
       "      <th>Fence</th>\n",
       "      <th>MiscFeature</th>\n",
       "      <th>MiscVal</th>\n",
       "      <th>MoSold</th>\n",
       "      <th>YrSold</th>\n",
       "      <th>SaleType</th>\n",
       "      <th>SaleCondition</th>\n",
       "      <th>SalePrice</th>\n",
       "    </tr>\n",
       "  </thead>\n",
       "  <tbody>\n",
       "    <tr>\n",
       "      <th>0</th>\n",
       "      <td>1</td>\n",
       "      <td>60</td>\n",
       "      <td>RL</td>\n",
       "      <td>65.000</td>\n",
       "      <td>8450</td>\n",
       "      <td>Pave</td>\n",
       "      <td>NaN</td>\n",
       "      <td>Reg</td>\n",
       "      <td>Lvl</td>\n",
       "      <td>AllPub</td>\n",
       "      <td>...</td>\n",
       "      <td>0</td>\n",
       "      <td>NaN</td>\n",
       "      <td>NaN</td>\n",
       "      <td>NaN</td>\n",
       "      <td>0</td>\n",
       "      <td>2</td>\n",
       "      <td>2008</td>\n",
       "      <td>WD</td>\n",
       "      <td>Normal</td>\n",
       "      <td>208500</td>\n",
       "    </tr>\n",
       "    <tr>\n",
       "      <th>1</th>\n",
       "      <td>2</td>\n",
       "      <td>20</td>\n",
       "      <td>RL</td>\n",
       "      <td>80.000</td>\n",
       "      <td>9600</td>\n",
       "      <td>Pave</td>\n",
       "      <td>NaN</td>\n",
       "      <td>Reg</td>\n",
       "      <td>Lvl</td>\n",
       "      <td>AllPub</td>\n",
       "      <td>...</td>\n",
       "      <td>0</td>\n",
       "      <td>NaN</td>\n",
       "      <td>NaN</td>\n",
       "      <td>NaN</td>\n",
       "      <td>0</td>\n",
       "      <td>5</td>\n",
       "      <td>2007</td>\n",
       "      <td>WD</td>\n",
       "      <td>Normal</td>\n",
       "      <td>181500</td>\n",
       "    </tr>\n",
       "    <tr>\n",
       "      <th>2</th>\n",
       "      <td>3</td>\n",
       "      <td>60</td>\n",
       "      <td>RL</td>\n",
       "      <td>68.000</td>\n",
       "      <td>11250</td>\n",
       "      <td>Pave</td>\n",
       "      <td>NaN</td>\n",
       "      <td>IR1</td>\n",
       "      <td>Lvl</td>\n",
       "      <td>AllPub</td>\n",
       "      <td>...</td>\n",
       "      <td>0</td>\n",
       "      <td>NaN</td>\n",
       "      <td>NaN</td>\n",
       "      <td>NaN</td>\n",
       "      <td>0</td>\n",
       "      <td>9</td>\n",
       "      <td>2008</td>\n",
       "      <td>WD</td>\n",
       "      <td>Normal</td>\n",
       "      <td>223500</td>\n",
       "    </tr>\n",
       "    <tr>\n",
       "      <th>3</th>\n",
       "      <td>4</td>\n",
       "      <td>70</td>\n",
       "      <td>RL</td>\n",
       "      <td>60.000</td>\n",
       "      <td>9550</td>\n",
       "      <td>Pave</td>\n",
       "      <td>NaN</td>\n",
       "      <td>IR1</td>\n",
       "      <td>Lvl</td>\n",
       "      <td>AllPub</td>\n",
       "      <td>...</td>\n",
       "      <td>0</td>\n",
       "      <td>NaN</td>\n",
       "      <td>NaN</td>\n",
       "      <td>NaN</td>\n",
       "      <td>0</td>\n",
       "      <td>2</td>\n",
       "      <td>2006</td>\n",
       "      <td>WD</td>\n",
       "      <td>Abnorml</td>\n",
       "      <td>140000</td>\n",
       "    </tr>\n",
       "    <tr>\n",
       "      <th>4</th>\n",
       "      <td>5</td>\n",
       "      <td>60</td>\n",
       "      <td>RL</td>\n",
       "      <td>84.000</td>\n",
       "      <td>14260</td>\n",
       "      <td>Pave</td>\n",
       "      <td>NaN</td>\n",
       "      <td>IR1</td>\n",
       "      <td>Lvl</td>\n",
       "      <td>AllPub</td>\n",
       "      <td>...</td>\n",
       "      <td>0</td>\n",
       "      <td>NaN</td>\n",
       "      <td>NaN</td>\n",
       "      <td>NaN</td>\n",
       "      <td>0</td>\n",
       "      <td>12</td>\n",
       "      <td>2008</td>\n",
       "      <td>WD</td>\n",
       "      <td>Normal</td>\n",
       "      <td>250000</td>\n",
       "    </tr>\n",
       "  </tbody>\n",
       "</table>\n",
       "<p>5 rows × 81 columns</p>\n",
       "</div>"
      ],
      "text/plain": [
       "   Id  MSSubClass MSZoning  LotFrontage  LotArea Street Alley LotShape  \\\n",
       "0   1          60       RL       65.000     8450   Pave   NaN      Reg   \n",
       "1   2          20       RL       80.000     9600   Pave   NaN      Reg   \n",
       "2   3          60       RL       68.000    11250   Pave   NaN      IR1   \n",
       "3   4          70       RL       60.000     9550   Pave   NaN      IR1   \n",
       "4   5          60       RL       84.000    14260   Pave   NaN      IR1   \n",
       "\n",
       "  LandContour Utilities  ... PoolArea PoolQC Fence MiscFeature MiscVal MoSold  \\\n",
       "0         Lvl    AllPub  ...        0    NaN   NaN         NaN       0      2   \n",
       "1         Lvl    AllPub  ...        0    NaN   NaN         NaN       0      5   \n",
       "2         Lvl    AllPub  ...        0    NaN   NaN         NaN       0      9   \n",
       "3         Lvl    AllPub  ...        0    NaN   NaN         NaN       0      2   \n",
       "4         Lvl    AllPub  ...        0    NaN   NaN         NaN       0     12   \n",
       "\n",
       "  YrSold  SaleType  SaleCondition  SalePrice  \n",
       "0   2008        WD         Normal     208500  \n",
       "1   2007        WD         Normal     181500  \n",
       "2   2008        WD         Normal     223500  \n",
       "3   2006        WD        Abnorml     140000  \n",
       "4   2008        WD         Normal     250000  \n",
       "\n",
       "[5 rows x 81 columns]"
      ]
     },
     "execution_count": 3,
     "metadata": {},
     "output_type": "execute_result"
    }
   ],
   "source": [
    "train.head()"
   ]
  },
  {
   "cell_type": "code",
   "execution_count": 4,
   "metadata": {},
   "outputs": [
    {
     "name": "stdout",
     "output_type": "stream",
     "text": [
      "There are 0 duplicate IDs for 1460 total entries\n"
     ]
    }
   ],
   "source": [
    "# 중복확인.\n",
    "idsUnique=len(set(train.Id))  # 1460\n",
    "idsTotal=train.shape[0]\n",
    "idsDupli=idsTotal-idsUnique\n",
    "print(\"There are \" + str(idsDupli) + \" duplicate IDs for \" + str(idsTotal) + \" total entries\")\n",
    "\n",
    "# Id 컬럼 제거\n",
    "train.drop(\"Id\",axis=1, inplace=True)"
   ]
  },
  {
   "cell_type": "markdown",
   "metadata": {},
   "source": [
    "------------------------------------------------------------\n",
    "### Preprocessing"
   ]
  },
  {
   "cell_type": "code",
   "execution_count": 5,
   "metadata": {},
   "outputs": [
    {
     "data": {
      "image/png": "[encoded data removed]",
      "text/plain": [
       "<Figure size 432x288 with 1 Axes>"
      ]
     },
     "metadata": {
      "needs_background": "light"
     },
     "output_type": "display_data"
    }
   ],
   "source": [
    "# outlier체크\n",
    "plt.scatter(train.GrLivArea, train.SalePrice, c=\"blue\", marker=\"s\")\n",
    "plt.title(\"Looking for outliers\")\n",
    "plt.xlabel(\"GrLivArea\")\n",
    "plt.ylabel(\"SalePrice\")\n",
    "plt.show()\n",
    "\n",
    "train=train[train.GrLivArea<4000]"
   ]
  },
  {
   "cell_type": "markdown",
   "metadata": {},
   "source": [
    "* 오른쪽 하단에 면적이 큰데, 매우 저렴하게 팔리는 2개의 outlier가 보인다. 데이터셋의 author은 4000square feet이상의 집들은 제거할것을 권했다. "
   ]
  },
  {
   "cell_type": "code",
   "execution_count": 6,
   "metadata": {},
   "outputs": [],
   "source": [
    "train.SalePrice=np.log1p(train.SalePrice)\n",
    "y=train.SalePrice"
   ]
  },
  {
   "cell_type": "markdown",
   "metadata": {},
   "source": [
    "* 로그를 취하는것에 의미는, 비싼 집과 저렴한 집을 예측하는것에 대한 에러가 결과에 동일하게 영향을 미치게 한다는 것을 의미한다."
   ]
  },
  {
   "cell_type": "markdown",
   "metadata": {},
   "source": [
    "**(결측치 처리)**"
   ]
  },
  {
   "cell_type": "code",
   "execution_count": 7,
   "metadata": {},
   "outputs": [],
   "source": [
    "# Handle missing values for features where median/mean or most common value doesn't make sense\n",
    "\n",
    "# Alley : data description says NA means \"no alley access\"\n",
    "train.loc[:, \"Alley\"] = train.loc[:, \"Alley\"].fillna(\"None\")\n",
    "# BedroomAbvGr : NA most likely means 0\n",
    "train.loc[:, \"BedroomAbvGr\"] = train.loc[:, \"BedroomAbvGr\"].fillna(0)\n",
    "# BsmtQual etc : data description says NA for basement features is \"no basement\"\n",
    "train.loc[:, \"BsmtQual\"] = train.loc[:, \"BsmtQual\"].fillna(\"No\")\n",
    "train.loc[:, \"BsmtCond\"] = train.loc[:, \"BsmtCond\"].fillna(\"No\")\n",
    "train.loc[:, \"BsmtExposure\"] = train.loc[:, \"BsmtExposure\"].fillna(\"No\")\n",
    "train.loc[:, \"BsmtFinType1\"] = train.loc[:, \"BsmtFinType1\"].fillna(\"No\")\n",
    "train.loc[:, \"BsmtFinType2\"] = train.loc[:, \"BsmtFinType2\"].fillna(\"No\")\n",
    "train.loc[:, \"BsmtFullBath\"] = train.loc[:, \"BsmtFullBath\"].fillna(0)\n",
    "train.loc[:, \"BsmtHalfBath\"] = train.loc[:, \"BsmtHalfBath\"].fillna(0)\n",
    "train.loc[:, \"BsmtUnfSF\"] = train.loc[:, \"BsmtUnfSF\"].fillna(0)\n",
    "# CentralAir : NA most likely means No\n",
    "train.loc[:, \"CentralAir\"] = train.loc[:, \"CentralAir\"].fillna(\"N\")\n",
    "# Condition : NA most likely means Normal\n",
    "train.loc[:, \"Condition1\"] = train.loc[:, \"Condition1\"].fillna(\"Norm\")\n",
    "train.loc[:, \"Condition2\"] = train.loc[:, \"Condition2\"].fillna(\"Norm\")\n",
    "# EnclosedPorch : NA most likely means no enclosed porch\n",
    "train.loc[:, \"EnclosedPorch\"] = train.loc[:, \"EnclosedPorch\"].fillna(0)\n",
    "# External stuff : NA most likely means average\n",
    "train.loc[:, \"ExterCond\"] = train.loc[:, \"ExterCond\"].fillna(\"TA\")\n",
    "train.loc[:, \"ExterQual\"] = train.loc[:, \"ExterQual\"].fillna(\"TA\")\n",
    "# Fence : data description says NA means \"no fence\"\n",
    "train.loc[:, \"Fence\"] = train.loc[:, \"Fence\"].fillna(\"No\")\n",
    "# FireplaceQu : data description says NA means \"no fireplace\"\n",
    "train.loc[:, \"FireplaceQu\"] = train.loc[:, \"FireplaceQu\"].fillna(\"No\")\n",
    "train.loc[:, \"Fireplaces\"] = train.loc[:, \"Fireplaces\"].fillna(0)\n",
    "# Functional : data description says NA means typical\n",
    "train.loc[:, \"Functional\"] = train.loc[:, \"Functional\"].fillna(\"Typ\")\n",
    "# GarageType etc : data description says NA for garage features is \"no garage\"\n",
    "train.loc[:, \"GarageType\"] = train.loc[:, \"GarageType\"].fillna(\"No\")\n",
    "train.loc[:, \"GarageFinish\"] = train.loc[:, \"GarageFinish\"].fillna(\"No\")\n",
    "train.loc[:, \"GarageQual\"] = train.loc[:, \"GarageQual\"].fillna(\"No\")\n",
    "train.loc[:, \"GarageCond\"] = train.loc[:, \"GarageCond\"].fillna(\"No\")\n",
    "train.loc[:, \"GarageArea\"] = train.loc[:, \"GarageArea\"].fillna(0)\n",
    "train.loc[:, \"GarageCars\"] = train.loc[:, \"GarageCars\"].fillna(0)\n",
    "# HalfBath : NA most likely means no half baths above grade\n",
    "train.loc[:, \"HalfBath\"] = train.loc[:, \"HalfBath\"].fillna(0)\n",
    "# HeatingQC : NA most likely means typical\n",
    "train.loc[:, \"HeatingQC\"] = train.loc[:, \"HeatingQC\"].fillna(\"TA\")\n",
    "# KitchenAbvGr : NA most likely means 0\n",
    "train.loc[:, \"KitchenAbvGr\"] = train.loc[:, \"KitchenAbvGr\"].fillna(0)\n",
    "# KitchenQual : NA most likely means typical\n",
    "train.loc[:, \"KitchenQual\"] = train.loc[:, \"KitchenQual\"].fillna(\"TA\")\n",
    "# LotFrontage : NA most likely means no lot frontage\n",
    "train.loc[:, \"LotFrontage\"] = train.loc[:, \"LotFrontage\"].fillna(0)\n",
    "# LotShape : NA most likely means regular\n",
    "train.loc[:, \"LotShape\"] = train.loc[:, \"LotShape\"].fillna(\"Reg\")\n",
    "# MasVnrType : NA most likely means no veneer\n",
    "train.loc[:, \"MasVnrType\"] = train.loc[:, \"MasVnrType\"].fillna(\"None\")\n",
    "train.loc[:, \"MasVnrArea\"] = train.loc[:, \"MasVnrArea\"].fillna(0)\n",
    "# MiscFeature : data description says NA means \"no misc feature\"\n",
    "train.loc[:, \"MiscFeature\"] = train.loc[:, \"MiscFeature\"].fillna(\"No\")\n",
    "train.loc[:, \"MiscVal\"] = train.loc[:, \"MiscVal\"].fillna(0)\n",
    "# OpenPorchSF : NA most likely means no open porch\n",
    "train.loc[:, \"OpenPorchSF\"] = train.loc[:, \"OpenPorchSF\"].fillna(0)\n",
    "# PavedDrive : NA most likely means not paved\n",
    "train.loc[:, \"PavedDrive\"] = train.loc[:, \"PavedDrive\"].fillna(\"N\")\n",
    "# PoolQC : data description says NA means \"no pool\"\n",
    "train.loc[:, \"PoolQC\"] = train.loc[:, \"PoolQC\"].fillna(\"No\")\n",
    "train.loc[:, \"PoolArea\"] = train.loc[:, \"PoolArea\"].fillna(0)\n",
    "# SaleCondition : NA most likely means normal sale\n",
    "train.loc[:, \"SaleCondition\"] = train.loc[:, \"SaleCondition\"].fillna(\"Normal\")\n",
    "# ScreenPorch : NA most likely means no screen porch\n",
    "train.loc[:, \"ScreenPorch\"] = train.loc[:, \"ScreenPorch\"].fillna(0)\n",
    "# TotRmsAbvGrd : NA most likely means 0\n",
    "train.loc[:, \"TotRmsAbvGrd\"] = train.loc[:, \"TotRmsAbvGrd\"].fillna(0)\n",
    "# Utilities : NA most likely means all public utilities\n",
    "train.loc[:, \"Utilities\"] = train.loc[:, \"Utilities\"].fillna(\"AllPub\")\n",
    "# WoodDeckSF : NA most likely means no wood deck\n",
    "train.loc[:, \"WoodDeckSF\"] = train.loc[:, \"WoodDeckSF\"].fillna(0)"
   ]
  },
  {
   "cell_type": "code",
   "execution_count": 8,
   "metadata": {},
   "outputs": [],
   "source": [
    "# Some numerical features are actually really categories\n",
    "## 카테고리를 의미하는것은 문자로 바꿔줌.\n",
    "train = train.replace({\"MSSubClass\" : {20 : \"SC20\", 30 : \"SC30\", 40 : \"SC40\", 45 : \"SC45\", \n",
    "                                       50 : \"SC50\", 60 : \"SC60\", 70 : \"SC70\", 75 : \"SC75\", \n",
    "                                       80 : \"SC80\", 85 : \"SC85\", 90 : \"SC90\", 120 : \"SC120\", \n",
    "                                       150 : \"SC150\", 160 : \"SC160\", 180 : \"SC180\", 190 : \"SC190\"},\n",
    "                       \"MoSold\" : {1 : \"Jan\", 2 : \"Feb\", 3 : \"Mar\", 4 : \"Apr\", 5 : \"May\", 6 : \"Jun\",\n",
    "                                   7 : \"Jul\", 8 : \"Aug\", 9 : \"Sep\", 10 : \"Oct\", 11 : \"Nov\", 12 : \"Dec\"}\n",
    "                      })"
   ]
  },
  {
   "cell_type": "code",
   "execution_count": 9,
   "metadata": {},
   "outputs": [],
   "source": [
    "# Encode some categorical features as ordered numbers when there is information in the order\n",
    "## 순서를 나타내는 카테고리는 0,1,2,3,,이런식으로 넘버링 해준다.\n",
    "train = train.replace({\"Alley\" : {\"Grvl\" : 1, \"Pave\" : 2},\n",
    "                       \"BsmtCond\" : {\"No\" : 0, \"Po\" : 1, \"Fa\" : 2, \"TA\" : 3, \"Gd\" : 4, \"Ex\" : 5},\n",
    "                       \"BsmtExposure\" : {\"No\" : 0, \"Mn\" : 1, \"Av\": 2, \"Gd\" : 3},\n",
    "                       \"BsmtFinType1\" : {\"No\" : 0, \"Unf\" : 1, \"LwQ\": 2, \"Rec\" : 3, \"BLQ\" : 4, \n",
    "                                         \"ALQ\" : 5, \"GLQ\" : 6},\n",
    "                       \"BsmtFinType2\" : {\"No\" : 0, \"Unf\" : 1, \"LwQ\": 2, \"Rec\" : 3, \"BLQ\" : 4, \n",
    "                                         \"ALQ\" : 5, \"GLQ\" : 6},\n",
    "                       \"BsmtQual\" : {\"No\" : 0, \"Po\" : 1, \"Fa\" : 2, \"TA\": 3, \"Gd\" : 4, \"Ex\" : 5},\n",
    "                       \"ExterCond\" : {\"Po\" : 1, \"Fa\" : 2, \"TA\": 3, \"Gd\": 4, \"Ex\" : 5},\n",
    "                       \"ExterQual\" : {\"Po\" : 1, \"Fa\" : 2, \"TA\": 3, \"Gd\": 4, \"Ex\" : 5},\n",
    "                       \"FireplaceQu\" : {\"No\" : 0, \"Po\" : 1, \"Fa\" : 2, \"TA\" : 3, \"Gd\" : 4, \"Ex\" : 5},\n",
    "                       \"Functional\" : {\"Sal\" : 1, \"Sev\" : 2, \"Maj2\" : 3, \"Maj1\" : 4, \"Mod\": 5, \n",
    "                                       \"Min2\" : 6, \"Min1\" : 7, \"Typ\" : 8},\n",
    "                       \"GarageCond\" : {\"No\" : 0, \"Po\" : 1, \"Fa\" : 2, \"TA\" : 3, \"Gd\" : 4, \"Ex\" : 5},\n",
    "                       \"GarageQual\" : {\"No\" : 0, \"Po\" : 1, \"Fa\" : 2, \"TA\" : 3, \"Gd\" : 4, \"Ex\" : 5},\n",
    "                       \"HeatingQC\" : {\"Po\" : 1, \"Fa\" : 2, \"TA\" : 3, \"Gd\" : 4, \"Ex\" : 5},\n",
    "                       \"KitchenQual\" : {\"Po\" : 1, \"Fa\" : 2, \"TA\" : 3, \"Gd\" : 4, \"Ex\" : 5},\n",
    "                       \"LandSlope\" : {\"Sev\" : 1, \"Mod\" : 2, \"Gtl\" : 3},\n",
    "                       \"LotShape\" : {\"IR3\" : 1, \"IR2\" : 2, \"IR1\" : 3, \"Reg\" : 4},\n",
    "                       \"PavedDrive\" : {\"N\" : 0, \"P\" : 1, \"Y\" : 2},\n",
    "                       \"PoolQC\" : {\"No\" : 0, \"Fa\" : 1, \"TA\" : 2, \"Gd\" : 3, \"Ex\" : 4},\n",
    "                       \"Street\" : {\"Grvl\" : 1, \"Pave\" : 2},\n",
    "                       \"Utilities\" : {\"ELO\" : 1, \"NoSeWa\" : 2, \"NoSewr\" : 3, \"AllPub\" : 4}}\n",
    "                     )"
   ]
  },
  {
   "cell_type": "markdown",
   "metadata": {},
   "source": [
    "**3가지 방법으로 새로운 feature를 만들것이다**\n",
    "1. Simplifications of existing features\n",
    "    * 존재하는 feature들을 단순화\n",
    "        * ex) 퀄리티가 1부터 10까지 다양하게 있으면, 이걸 범주화해서 1~3은 1로, 4~6은 2로, 7~10은 3으로.\n",
    "2. Combinations of existing features\n",
    "    * 존재하는 Feature들 조합\n",
    "        * ex) Qual와  Cond의 곱으로  %Grade라는 컬럼을 새로 만듬.\n",
    "        * ex) 주차장 면적과 주차장Quality를 곱해서 주차장 score 변수를 만듬.\n",
    "3. Polynomials on the top 10 existing features\n",
    "    * 상위10개 Feature로 다항식 "
   ]
  },
  {
   "cell_type": "code",
   "execution_count": 10,
   "metadata": {},
   "outputs": [],
   "source": [
    "# Create new features\n",
    "# 1* Simplifications of existing features\n",
    "train[\"SimplOverallQual\"] = train.OverallQual.replace({1 : 1, 2 : 1, 3 : 1, # bad\n",
    "                                                       4 : 2, 5 : 2, 6 : 2, # average\n",
    "                                                       7 : 3, 8 : 3, 9 : 3, 10 : 3 # good\n",
    "                                                      })\n",
    "train[\"SimplOverallCond\"] = train.OverallCond.replace({1 : 1, 2 : 1, 3 : 1, # bad\n",
    "                                                       4 : 2, 5 : 2, 6 : 2, # average\n",
    "                                                       7 : 3, 8 : 3, 9 : 3, 10 : 3 # good\n",
    "                                                      })\n",
    "train[\"SimplPoolQC\"] = train.PoolQC.replace({1 : 1, 2 : 1, # average\n",
    "                                             3 : 2, 4 : 2 # good\n",
    "                                            })\n",
    "train[\"SimplGarageCond\"] = train.GarageCond.replace({1 : 1, # bad\n",
    "                                                     2 : 1, 3 : 1, # average\n",
    "                                                     4 : 2, 5 : 2 # good\n",
    "                                                    })\n",
    "train[\"SimplGarageQual\"] = train.GarageQual.replace({1 : 1, # bad\n",
    "                                                     2 : 1, 3 : 1, # average\n",
    "                                                     4 : 2, 5 : 2 # good\n",
    "                                                    })\n",
    "train[\"SimplFireplaceQu\"] = train.FireplaceQu.replace({1 : 1, # bad\n",
    "                                                       2 : 1, 3 : 1, # average\n",
    "                                                       4 : 2, 5 : 2 # good\n",
    "                                                      })\n",
    "train[\"SimplFireplaceQu\"] = train.FireplaceQu.replace({1 : 1, # bad\n",
    "                                                       2 : 1, 3 : 1, # average\n",
    "                                                       4 : 2, 5 : 2 # good\n",
    "                                                      })\n",
    "train[\"SimplFunctional\"] = train.Functional.replace({1 : 1, 2 : 1, # bad\n",
    "                                                     3 : 2, 4 : 2, # major\n",
    "                                                     5 : 3, 6 : 3, 7 : 3, # minor\n",
    "                                                     8 : 4 # typical\n",
    "                                                    })\n",
    "train[\"SimplKitchenQual\"] = train.KitchenQual.replace({1 : 1, # bad\n",
    "                                                       2 : 1, 3 : 1, # average\n",
    "                                                       4 : 2, 5 : 2 # good\n",
    "                                                      })\n",
    "train[\"SimplHeatingQC\"] = train.HeatingQC.replace({1 : 1, # bad\n",
    "                                                   2 : 1, 3 : 1, # average\n",
    "                                                   4 : 2, 5 : 2 # good\n",
    "                                                  })\n",
    "train[\"SimplBsmtFinType1\"] = train.BsmtFinType1.replace({1 : 1, # unfinished\n",
    "                                                         2 : 1, 3 : 1, # rec room\n",
    "                                                         4 : 2, 5 : 2, 6 : 2 # living quarters\n",
    "                                                        })\n",
    "train[\"SimplBsmtFinType2\"] = train.BsmtFinType2.replace({1 : 1, # unfinished\n",
    "                                                         2 : 1, 3 : 1, # rec room\n",
    "                                                         4 : 2, 5 : 2, 6 : 2 # living quarters\n",
    "                                                        })\n",
    "train[\"SimplBsmtCond\"] = train.BsmtCond.replace({1 : 1, # bad\n",
    "                                                 2 : 1, 3 : 1, # average\n",
    "                                                 4 : 2, 5 : 2 # good\n",
    "                                                })\n",
    "train[\"SimplBsmtQual\"] = train.BsmtQual.replace({1 : 1, # bad\n",
    "                                                 2 : 1, 3 : 1, # average\n",
    "                                                 4 : 2, 5 : 2 # good\n",
    "                                                })\n",
    "train[\"SimplExterCond\"] = train.ExterCond.replace({1 : 1, # bad\n",
    "                                                   2 : 1, 3 : 1, # average\n",
    "                                                   4 : 2, 5 : 2 # good\n",
    "                                                  })\n",
    "train[\"SimplExterQual\"] = train.ExterQual.replace({1 : 1, # bad\n",
    "                                                   2 : 1, 3 : 1, # average\n",
    "                                                   4 : 2, 5 : 2 # good\n",
    "                                                  })\n",
    "\n",
    "# 2* Combinations of existing features\n",
    "# Overall quality of the house\n",
    "train[\"OverallGrade\"] = train[\"OverallQual\"] * train[\"OverallCond\"]\n",
    "# Overall quality of the garage\n",
    "train[\"GarageGrade\"] = train[\"GarageQual\"] * train[\"GarageCond\"]\n",
    "# Overall quality of the exterior\n",
    "train[\"ExterGrade\"] = train[\"ExterQual\"] * train[\"ExterCond\"]\n",
    "# Overall kitchen score\n",
    "train[\"KitchenScore\"] = train[\"KitchenAbvGr\"] * train[\"KitchenQual\"]\n",
    "# Overall fireplace score\n",
    "train[\"FireplaceScore\"] = train[\"Fireplaces\"] * train[\"FireplaceQu\"]\n",
    "# Overall garage score\n",
    "train[\"GarageScore\"] = train[\"GarageArea\"] * train[\"GarageQual\"]\n",
    "# Overall pool score\n",
    "train[\"PoolScore\"] = train[\"PoolArea\"] * train[\"PoolQC\"]\n",
    "# Simplified overall quality of the house\n",
    "train[\"SimplOverallGrade\"] = train[\"SimplOverallQual\"] * train[\"SimplOverallCond\"]\n",
    "# Simplified overall quality of the exterior\n",
    "train[\"SimplExterGrade\"] = train[\"SimplExterQual\"] * train[\"SimplExterCond\"]\n",
    "# Simplified overall pool score\n",
    "train[\"SimplPoolScore\"] = train[\"PoolArea\"] * train[\"SimplPoolQC\"]\n",
    "# Simplified overall garage score\n",
    "train[\"SimplGarageScore\"] = train[\"GarageArea\"] * train[\"SimplGarageQual\"]\n",
    "# Simplified overall fireplace score\n",
    "train[\"SimplFireplaceScore\"] = train[\"Fireplaces\"] * train[\"SimplFireplaceQu\"]\n",
    "# Simplified overall kitchen score\n",
    "train[\"SimplKitchenScore\"] = train[\"KitchenAbvGr\"] * train[\"SimplKitchenQual\"]\n",
    "# Total number of bathrooms\n",
    "train[\"TotalBath\"] = train[\"BsmtFullBath\"] + (0.5 * train[\"BsmtHalfBath\"]) + \\\n",
    "train[\"FullBath\"] + (0.5 * train[\"HalfBath\"])\n",
    "# Total SF for house (incl. basement)\n",
    "train[\"AllSF\"] = train[\"GrLivArea\"] + train[\"TotalBsmtSF\"]\n",
    "# Total SF for 1st + 2nd floors\n",
    "train[\"AllFlrsSF\"] = train[\"1stFlrSF\"] + train[\"2ndFlrSF\"]\n",
    "# Total SF for porch\n",
    "train[\"AllPorchSF\"] = train[\"OpenPorchSF\"] + train[\"EnclosedPorch\"] + \\\n",
    "train[\"3SsnPorch\"] + train[\"ScreenPorch\"]\n",
    "# Has masonry veneer or not\n",
    "## 벽돌 유/무로 구분(있으면=1,없으면=0)\n",
    "train[\"HasMasVnr\"] = train.MasVnrType.replace({\"BrkCmn\" : 1, \"BrkFace\" : 1, \"CBlock\" : 1, \n",
    "                                               \"Stone\" : 1, \"None\" : 0})\n",
    "# House completed before sale or not\n",
    "train[\"BoughtOffPlan\"] = train.SaleCondition.replace({\"Abnorml\" : 0, \"Alloca\" : 0, \"AdjLand\" : 0, \n",
    "                                                      \"Family\" : 0, \"Normal\" : 0, \"Partial\" : 1})"
   ]
  },
  {
   "cell_type": "markdown",
   "metadata": {},
   "source": [
    "**SalePrice와의 상관관계확인**"
   ]
  },
  {
   "cell_type": "code",
   "execution_count": 11,
   "metadata": {},
   "outputs": [
    {
     "name": "stdout",
     "output_type": "stream",
     "text": [
      "Find most important features relative to target\n",
      "SalePrice         1.000\n",
      "OverallQual       0.819\n",
      "AllSF             0.817\n",
      "AllFlrsSF         0.729\n",
      "GrLivArea         0.719\n",
      "                  ...  \n",
      "LandSlope        -0.040\n",
      "SimplExterCond   -0.042\n",
      "KitchenAbvGr     -0.148\n",
      "EnclosedPorch    -0.149\n",
      "LotShape         -0.286\n",
      "Name: SalePrice, Length: 88, dtype: float64\n"
     ]
    }
   ],
   "source": [
    "# Find most important features relative to target\n",
    "print(\"Find most important features relative to target\")\n",
    "corr = train.corr()\n",
    "corr.sort_values([\"SalePrice\"], ascending = False, inplace = True)\n",
    "print(corr.SalePrice)"
   ]
  },
  {
   "cell_type": "markdown",
   "metadata": {},
   "source": [
    "**상위 10개 feature를 가지고 2제곱, 3제곱, 제곱근항을 각각 세개씩 만듬.**"
   ]
  },
  {
   "cell_type": "code",
   "execution_count": 12,
   "metadata": {},
   "outputs": [],
   "source": [
    "# 상위 10개 feature를 가지고 2제곱, 3제곱, 제곱근항을 각각 세개씩 만듬.\n",
    "# Create new features\n",
    "# 3* Polynomials on the top 10 existing features\n",
    "train[\"OverallQual-s2\"] = train[\"OverallQual\"] ** 2\n",
    "train[\"OverallQual-s3\"] = train[\"OverallQual\"] ** 3\n",
    "train[\"OverallQual-Sq\"] = np.sqrt(train[\"OverallQual\"])\n",
    "train[\"AllSF-2\"] = train[\"AllSF\"] ** 2\n",
    "train[\"AllSF-3\"] = train[\"AllSF\"] ** 3\n",
    "train[\"AllSF-Sq\"] = np.sqrt(train[\"AllSF\"])\n",
    "train[\"AllFlrsSF-2\"] = train[\"AllFlrsSF\"] ** 2\n",
    "train[\"AllFlrsSF-3\"] = train[\"AllFlrsSF\"] ** 3\n",
    "train[\"AllFlrsSF-Sq\"] = np.sqrt(train[\"AllFlrsSF\"])\n",
    "train[\"GrLivArea-2\"] = train[\"GrLivArea\"] ** 2\n",
    "train[\"GrLivArea-3\"] = train[\"GrLivArea\"] ** 3\n",
    "train[\"GrLivArea-Sq\"] = np.sqrt(train[\"GrLivArea\"])\n",
    "train[\"SimplOverallQual-s2\"] = train[\"SimplOverallQual\"] ** 2\n",
    "train[\"SimplOverallQual-s3\"] = train[\"SimplOverallQual\"] ** 3\n",
    "train[\"SimplOverallQual-Sq\"] = np.sqrt(train[\"SimplOverallQual\"])\n",
    "train[\"ExterQual-2\"] = train[\"ExterQual\"] ** 2\n",
    "train[\"ExterQual-3\"] = train[\"ExterQual\"] ** 3\n",
    "train[\"ExterQual-Sq\"] = np.sqrt(train[\"ExterQual\"])\n",
    "train[\"GarageCars-2\"] = train[\"GarageCars\"] ** 2\n",
    "train[\"GarageCars-3\"] = train[\"GarageCars\"] ** 3\n",
    "train[\"GarageCars-Sq\"] = np.sqrt(train[\"GarageCars\"])\n",
    "train[\"TotalBath-2\"] = train[\"TotalBath\"] ** 2\n",
    "train[\"TotalBath-3\"] = train[\"TotalBath\"] ** 3\n",
    "train[\"TotalBath-Sq\"] = np.sqrt(train[\"TotalBath\"])\n",
    "train[\"KitchenQual-2\"] = train[\"KitchenQual\"] ** 2\n",
    "train[\"KitchenQual-3\"] = train[\"KitchenQual\"] ** 3\n",
    "train[\"KitchenQual-Sq\"] = np.sqrt(train[\"KitchenQual\"])\n",
    "train[\"GarageScore-2\"] = train[\"GarageScore\"] ** 2\n",
    "train[\"GarageScore-3\"] = train[\"GarageScore\"] ** 3\n",
    "train[\"GarageScore-Sq\"] = np.sqrt(train[\"GarageScore\"])"
   ]
  },
  {
   "cell_type": "code",
   "execution_count": 13,
   "metadata": {},
   "outputs": [
    {
     "data": {
      "text/html": [
       "<div>\n",
       "<style scoped>\n",
       "    .dataframe tbody tr th:only-of-type {\n",
       "        vertical-align: middle;\n",
       "    }\n",
       "\n",
       "    .dataframe tbody tr th {\n",
       "        vertical-align: top;\n",
       "    }\n",
       "\n",
       "    .dataframe thead th {\n",
       "        text-align: right;\n",
       "    }\n",
       "</style>\n",
       "<table border=\"1\" class=\"dataframe\">\n",
       "  <thead>\n",
       "    <tr style=\"text-align: right;\">\n",
       "      <th></th>\n",
       "      <th>MSSubClass</th>\n",
       "      <th>MSZoning</th>\n",
       "      <th>LotFrontage</th>\n",
       "      <th>LotArea</th>\n",
       "      <th>Street</th>\n",
       "      <th>Alley</th>\n",
       "      <th>LotShape</th>\n",
       "      <th>LandContour</th>\n",
       "      <th>Utilities</th>\n",
       "      <th>LotConfig</th>\n",
       "      <th>...</th>\n",
       "      <th>GarageCars-Sq</th>\n",
       "      <th>TotalBath-2</th>\n",
       "      <th>TotalBath-3</th>\n",
       "      <th>TotalBath-Sq</th>\n",
       "      <th>KitchenQual-2</th>\n",
       "      <th>KitchenQual-3</th>\n",
       "      <th>KitchenQual-Sq</th>\n",
       "      <th>GarageScore-2</th>\n",
       "      <th>GarageScore-3</th>\n",
       "      <th>GarageScore-Sq</th>\n",
       "    </tr>\n",
       "  </thead>\n",
       "  <tbody>\n",
       "    <tr>\n",
       "      <th>0</th>\n",
       "      <td>SC60</td>\n",
       "      <td>RL</td>\n",
       "      <td>65.000</td>\n",
       "      <td>8450</td>\n",
       "      <td>2</td>\n",
       "      <td>None</td>\n",
       "      <td>4</td>\n",
       "      <td>Lvl</td>\n",
       "      <td>4</td>\n",
       "      <td>Inside</td>\n",
       "      <td>...</td>\n",
       "      <td>1.414</td>\n",
       "      <td>12.250</td>\n",
       "      <td>42.875</td>\n",
       "      <td>1.871</td>\n",
       "      <td>16</td>\n",
       "      <td>64</td>\n",
       "      <td>2.000</td>\n",
       "      <td>2702736</td>\n",
       "      <td>4443297984</td>\n",
       "      <td>40.546</td>\n",
       "    </tr>\n",
       "    <tr>\n",
       "      <th>1</th>\n",
       "      <td>SC20</td>\n",
       "      <td>RL</td>\n",
       "      <td>80.000</td>\n",
       "      <td>9600</td>\n",
       "      <td>2</td>\n",
       "      <td>None</td>\n",
       "      <td>4</td>\n",
       "      <td>Lvl</td>\n",
       "      <td>4</td>\n",
       "      <td>FR2</td>\n",
       "      <td>...</td>\n",
       "      <td>1.414</td>\n",
       "      <td>6.250</td>\n",
       "      <td>15.625</td>\n",
       "      <td>1.581</td>\n",
       "      <td>9</td>\n",
       "      <td>27</td>\n",
       "      <td>1.732</td>\n",
       "      <td>1904400</td>\n",
       "      <td>2628072000</td>\n",
       "      <td>37.148</td>\n",
       "    </tr>\n",
       "    <tr>\n",
       "      <th>2</th>\n",
       "      <td>SC60</td>\n",
       "      <td>RL</td>\n",
       "      <td>68.000</td>\n",
       "      <td>11250</td>\n",
       "      <td>2</td>\n",
       "      <td>None</td>\n",
       "      <td>3</td>\n",
       "      <td>Lvl</td>\n",
       "      <td>4</td>\n",
       "      <td>Inside</td>\n",
       "      <td>...</td>\n",
       "      <td>1.414</td>\n",
       "      <td>12.250</td>\n",
       "      <td>42.875</td>\n",
       "      <td>1.871</td>\n",
       "      <td>16</td>\n",
       "      <td>64</td>\n",
       "      <td>2.000</td>\n",
       "      <td>3326976</td>\n",
       "      <td>6068404224</td>\n",
       "      <td>42.708</td>\n",
       "    </tr>\n",
       "    <tr>\n",
       "      <th>3</th>\n",
       "      <td>SC70</td>\n",
       "      <td>RL</td>\n",
       "      <td>60.000</td>\n",
       "      <td>9550</td>\n",
       "      <td>2</td>\n",
       "      <td>None</td>\n",
       "      <td>3</td>\n",
       "      <td>Lvl</td>\n",
       "      <td>4</td>\n",
       "      <td>Corner</td>\n",
       "      <td>...</td>\n",
       "      <td>1.732</td>\n",
       "      <td>4.000</td>\n",
       "      <td>8.000</td>\n",
       "      <td>1.414</td>\n",
       "      <td>16</td>\n",
       "      <td>64</td>\n",
       "      <td>2.000</td>\n",
       "      <td>3709476</td>\n",
       "      <td>7144450776</td>\n",
       "      <td>43.886</td>\n",
       "    </tr>\n",
       "    <tr>\n",
       "      <th>4</th>\n",
       "      <td>SC60</td>\n",
       "      <td>RL</td>\n",
       "      <td>84.000</td>\n",
       "      <td>14260</td>\n",
       "      <td>2</td>\n",
       "      <td>None</td>\n",
       "      <td>3</td>\n",
       "      <td>Lvl</td>\n",
       "      <td>4</td>\n",
       "      <td>FR2</td>\n",
       "      <td>...</td>\n",
       "      <td>1.732</td>\n",
       "      <td>12.250</td>\n",
       "      <td>42.875</td>\n",
       "      <td>1.871</td>\n",
       "      <td>16</td>\n",
       "      <td>64</td>\n",
       "      <td>2.000</td>\n",
       "      <td>6290064</td>\n",
       "      <td>15775480512</td>\n",
       "      <td>50.080</td>\n",
       "    </tr>\n",
       "  </tbody>\n",
       "</table>\n",
       "<p>5 rows × 144 columns</p>\n",
       "</div>"
      ],
      "text/plain": [
       "  MSSubClass MSZoning  LotFrontage  LotArea  Street Alley  LotShape  \\\n",
       "0       SC60       RL       65.000     8450       2  None         4   \n",
       "1       SC20       RL       80.000     9600       2  None         4   \n",
       "2       SC60       RL       68.000    11250       2  None         3   \n",
       "3       SC70       RL       60.000     9550       2  None         3   \n",
       "4       SC60       RL       84.000    14260       2  None         3   \n",
       "\n",
       "  LandContour  Utilities LotConfig  ...  GarageCars-Sq TotalBath-2  \\\n",
       "0         Lvl          4    Inside  ...          1.414      12.250   \n",
       "1         Lvl          4       FR2  ...          1.414       6.250   \n",
       "2         Lvl          4    Inside  ...          1.414      12.250   \n",
       "3         Lvl          4    Corner  ...          1.732       4.000   \n",
       "4         Lvl          4       FR2  ...          1.732      12.250   \n",
       "\n",
       "  TotalBath-3 TotalBath-Sq KitchenQual-2 KitchenQual-3  KitchenQual-Sq  \\\n",
       "0      42.875        1.871            16            64           2.000   \n",
       "1      15.625        1.581             9            27           1.732   \n",
       "2      42.875        1.871            16            64           2.000   \n",
       "3       8.000        1.414            16            64           2.000   \n",
       "4      42.875        1.871            16            64           2.000   \n",
       "\n",
       "   GarageScore-2  GarageScore-3  GarageScore-Sq  \n",
       "0        2702736     4443297984          40.546  \n",
       "1        1904400     2628072000          37.148  \n",
       "2        3326976     6068404224          42.708  \n",
       "3        3709476     7144450776          43.886  \n",
       "4        6290064    15775480512          50.080  \n",
       "\n",
       "[5 rows x 144 columns]"
      ]
     },
     "execution_count": 13,
     "metadata": {},
     "output_type": "execute_result"
    }
   ],
   "source": [
    "train.head()"
   ]
  },
  {
   "cell_type": "code",
   "execution_count": 14,
   "metadata": {},
   "outputs": [
    {
     "name": "stdout",
     "output_type": "stream",
     "text": [
      "Numerical features : 117\n",
      "Categorical features : 26\n"
     ]
    }
   ],
   "source": [
    "# 수치형 변수와 범주형 변수를 따로 저장.\n",
    "categorical_features=train.select_dtypes(include=[\"object\"]).columns\n",
    "numerical_features=train.select_dtypes(exclude=['object']).columns\n",
    "# 수치형 변수에서 SalePrice는 드랍\n",
    "numerical_features=numerical_features.drop(\"SalePrice\")\n",
    "\n",
    "print(\"Numerical features : \" + str(len(numerical_features)))\n",
    "print(\"Categorical features : \" + str(len(categorical_features)))\n",
    "\n",
    "train_num=train[numerical_features]\n",
    "train_cat=train[categorical_features]"
   ]
  },
  {
   "cell_type": "markdown",
   "metadata": {},
   "source": [
    "**수치형 변수에있는 결측치를 median값으로 채운다**"
   ]
  },
  {
   "cell_type": "code",
   "execution_count": 15,
   "metadata": {},
   "outputs": [
    {
     "name": "stdout",
     "output_type": "stream",
     "text": [
      "NAs for numerical features in train : 81\n",
      "Remaining NAs for numerical features in train : 0\n"
     ]
    }
   ],
   "source": [
    "# 수치형 변수에있는 결측치를 median값으로 채운다\n",
    "print(\"NAs for numerical features in train : \" + str(train_num.isnull().values.sum()))   # train데이터에서 수치형데이터의 NA개수\n",
    "train_num = train_num.fillna(train_num.median())\n",
    "print(\"Remaining NAs for numerical features in train : \" + str(train_num.isnull().values.sum()))"
   ]
  },
  {
   "cell_type": "code",
   "execution_count": 16,
   "metadata": {},
   "outputs": [
    {
     "data": {
      "text/plain": [
       "LotFrontage       -0.006\n",
       "LotArea           12.575\n",
       "Street           -15.481\n",
       "LotShape          -1.290\n",
       "Utilities        -38.118\n",
       "                   ...  \n",
       "KitchenQual-3      1.229\n",
       "KitchenQual-Sq     0.140\n",
       "GarageScore-2      2.403\n",
       "GarageScore-3      5.268\n",
       "GarageScore-Sq    -1.494\n",
       "Length: 117, dtype: float64"
      ]
     },
     "execution_count": 16,
     "metadata": {},
     "output_type": "execute_result"
    }
   ],
   "source": [
    "skewness=train_num.apply(lambda x:skew(x))\n",
    "skewness"
   ]
  },
  {
   "cell_type": "markdown",
   "metadata": {},
   "source": [
    "* 아웃라이어의 영향을 줄이기위해서 비대칭(skew)한 수치형 변수들을 로그변환한다."
   ]
  },
  {
   "cell_type": "code",
   "execution_count": 17,
   "metadata": {},
   "outputs": [
    {
     "name": "stdout",
     "output_type": "stream",
     "text": [
      "86 skewed numerical features to log transform\n"
     ]
    }
   ],
   "source": [
    "# 아웃라이어의 영향을 줄이기위해서 비대칭한 수치형 변수들을 로그변환한다.\n",
    "# 비대칭 절대값이 0.5보다크면 least moderately skewed로 간주됨.\n",
    "\n",
    "skewness=train_num.apply(lambda x:skew(x))\n",
    "skewness=skewness[abs(skewness)>0.5]\n",
    "# 86개의 수치형 변수를 로그변환하겠다. (수치형변수 117개중에 86개가 skewness가 0.5보다 큰것)\n",
    "print(str(skewness.shape[0]) + \" skewed numerical features to log transform\")\n",
    "\n",
    "skewed_features=skewness.index\n",
    "train_num[skewed_features]=np.log1p(train_num[skewed_features])"
   ]
  },
  {
   "cell_type": "markdown",
   "metadata": {},
   "source": [
    "* one-hot encoding으로 범주형에 대해서 더미변수를 만든다.\n",
    "### 더미변수\n",
    "\n",
    "* 더미변수 만드는 이유\n",
    "    * 범주형 변수로는 사용할 수 없고 연속형 변수로만 가능한 분석기법을 사용할 수 있게 해준다.\n",
    "    * 예를 들어 선형 회귀분석, 로지스틱 회귀분석 등 회귀분석 계열은 원래 설명변수가 연속형 변수여야지 사용할 수 있는 분석 기법이다. <br>\n",
    "하지만 만약 설명변수 중에 범주형 변수가 섞여 있다면, 그 변수를 더미변수로 변환 즉, 연속형 변수스럽게 만들어서 회귀분석을 사용할 수 있다.\n",
    "\n",
    "* 더미변수의 의미\n",
    "    * 더미변수는 회귀식에서 해당 변수의 효과를 0 또는 상수값으로 만들어 준다. \n",
    "    * 예를들어, y= ax1+bx2+c라는 회귀식이 있을때\n",
    "        * 원래 회귀식에서 x2가 1이면 b만 남아서 y절편은 b+c가 된다.\n",
    "        * 원래 회귀식에서 x2가 0이면 b도 0이되어서 y절편은 c가 된다.\n",
    "            * 이처럼 더미변수는 회귀 기울기를 바꾸지는 않고 절편만을 바꾸어 평행하게 움직이게 하는 역할을 한다.\n"
   ]
  },
  {
   "cell_type": "code",
   "execution_count": 18,
   "metadata": {},
   "outputs": [
    {
     "data": {
      "text/html": [
       "<div>\n",
       "<style scoped>\n",
       "    .dataframe tbody tr th:only-of-type {\n",
       "        vertical-align: middle;\n",
       "    }\n",
       "\n",
       "    .dataframe tbody tr th {\n",
       "        vertical-align: top;\n",
       "    }\n",
       "\n",
       "    .dataframe thead th {\n",
       "        text-align: right;\n",
       "    }\n",
       "</style>\n",
       "<table border=\"1\" class=\"dataframe\">\n",
       "  <thead>\n",
       "    <tr style=\"text-align: right;\">\n",
       "      <th></th>\n",
       "      <th>MSSubClass</th>\n",
       "      <th>MSZoning</th>\n",
       "      <th>Alley</th>\n",
       "      <th>LandContour</th>\n",
       "      <th>LotConfig</th>\n",
       "      <th>Neighborhood</th>\n",
       "      <th>Condition1</th>\n",
       "      <th>Condition2</th>\n",
       "      <th>BldgType</th>\n",
       "      <th>HouseStyle</th>\n",
       "      <th>...</th>\n",
       "      <th>Heating</th>\n",
       "      <th>CentralAir</th>\n",
       "      <th>Electrical</th>\n",
       "      <th>GarageType</th>\n",
       "      <th>GarageFinish</th>\n",
       "      <th>Fence</th>\n",
       "      <th>MiscFeature</th>\n",
       "      <th>MoSold</th>\n",
       "      <th>SaleType</th>\n",
       "      <th>SaleCondition</th>\n",
       "    </tr>\n",
       "  </thead>\n",
       "  <tbody>\n",
       "    <tr>\n",
       "      <th>1379</th>\n",
       "      <td>SC80</td>\n",
       "      <td>RL</td>\n",
       "      <td>None</td>\n",
       "      <td>Lvl</td>\n",
       "      <td>Inside</td>\n",
       "      <td>Timber</td>\n",
       "      <td>Norm</td>\n",
       "      <td>Norm</td>\n",
       "      <td>1Fam</td>\n",
       "      <td>SLvl</td>\n",
       "      <td>...</td>\n",
       "      <td>GasA</td>\n",
       "      <td>Y</td>\n",
       "      <td>NaN</td>\n",
       "      <td>BuiltIn</td>\n",
       "      <td>Fin</td>\n",
       "      <td>No</td>\n",
       "      <td>No</td>\n",
       "      <td>May</td>\n",
       "      <td>WD</td>\n",
       "      <td>Normal</td>\n",
       "    </tr>\n",
       "  </tbody>\n",
       "</table>\n",
       "<p>1 rows × 26 columns</p>\n",
       "</div>"
      ],
      "text/plain": [
       "     MSSubClass MSZoning Alley LandContour LotConfig Neighborhood Condition1  \\\n",
       "1379       SC80       RL  None         Lvl    Inside       Timber       Norm   \n",
       "\n",
       "     Condition2 BldgType HouseStyle  ... Heating CentralAir Electrical  \\\n",
       "1379       Norm     1Fam       SLvl  ...    GasA          Y        NaN   \n",
       "\n",
       "     GarageType GarageFinish Fence MiscFeature MoSold SaleType SaleCondition  \n",
       "1379    BuiltIn          Fin    No          No    May       WD        Normal  \n",
       "\n",
       "[1 rows x 26 columns]"
      ]
     },
     "execution_count": 18,
     "metadata": {},
     "output_type": "execute_result"
    }
   ],
   "source": [
    "# 범주형변수중 null인 값은 1개.\n",
    "train_cat[train_cat.isnull().values]"
   ]
  },
  {
   "cell_type": "code",
   "execution_count": 19,
   "metadata": {},
   "outputs": [
    {
     "data": {
      "text/html": [
       "<div>\n",
       "<style scoped>\n",
       "    .dataframe tbody tr th:only-of-type {\n",
       "        vertical-align: middle;\n",
       "    }\n",
       "\n",
       "    .dataframe tbody tr th {\n",
       "        vertical-align: top;\n",
       "    }\n",
       "\n",
       "    .dataframe thead th {\n",
       "        text-align: right;\n",
       "    }\n",
       "</style>\n",
       "<table border=\"1\" class=\"dataframe\">\n",
       "  <thead>\n",
       "    <tr style=\"text-align: right;\">\n",
       "      <th></th>\n",
       "      <th>MSSubClass</th>\n",
       "      <th>MSZoning</th>\n",
       "      <th>Alley</th>\n",
       "      <th>LandContour</th>\n",
       "      <th>LotConfig</th>\n",
       "      <th>Neighborhood</th>\n",
       "      <th>Condition1</th>\n",
       "      <th>Condition2</th>\n",
       "      <th>BldgType</th>\n",
       "      <th>HouseStyle</th>\n",
       "      <th>...</th>\n",
       "      <th>Heating</th>\n",
       "      <th>CentralAir</th>\n",
       "      <th>Electrical</th>\n",
       "      <th>GarageType</th>\n",
       "      <th>GarageFinish</th>\n",
       "      <th>Fence</th>\n",
       "      <th>MiscFeature</th>\n",
       "      <th>MoSold</th>\n",
       "      <th>SaleType</th>\n",
       "      <th>SaleCondition</th>\n",
       "    </tr>\n",
       "  </thead>\n",
       "  <tbody>\n",
       "    <tr>\n",
       "      <th>0</th>\n",
       "      <td>SC60</td>\n",
       "      <td>RL</td>\n",
       "      <td>None</td>\n",
       "      <td>Lvl</td>\n",
       "      <td>Inside</td>\n",
       "      <td>CollgCr</td>\n",
       "      <td>Norm</td>\n",
       "      <td>Norm</td>\n",
       "      <td>1Fam</td>\n",
       "      <td>2Story</td>\n",
       "      <td>...</td>\n",
       "      <td>GasA</td>\n",
       "      <td>Y</td>\n",
       "      <td>SBrkr</td>\n",
       "      <td>Attchd</td>\n",
       "      <td>RFn</td>\n",
       "      <td>No</td>\n",
       "      <td>No</td>\n",
       "      <td>Feb</td>\n",
       "      <td>WD</td>\n",
       "      <td>Normal</td>\n",
       "    </tr>\n",
       "    <tr>\n",
       "      <th>1</th>\n",
       "      <td>SC20</td>\n",
       "      <td>RL</td>\n",
       "      <td>None</td>\n",
       "      <td>Lvl</td>\n",
       "      <td>FR2</td>\n",
       "      <td>Veenker</td>\n",
       "      <td>Feedr</td>\n",
       "      <td>Norm</td>\n",
       "      <td>1Fam</td>\n",
       "      <td>1Story</td>\n",
       "      <td>...</td>\n",
       "      <td>GasA</td>\n",
       "      <td>Y</td>\n",
       "      <td>SBrkr</td>\n",
       "      <td>Attchd</td>\n",
       "      <td>RFn</td>\n",
       "      <td>No</td>\n",
       "      <td>No</td>\n",
       "      <td>May</td>\n",
       "      <td>WD</td>\n",
       "      <td>Normal</td>\n",
       "    </tr>\n",
       "    <tr>\n",
       "      <th>2</th>\n",
       "      <td>SC60</td>\n",
       "      <td>RL</td>\n",
       "      <td>None</td>\n",
       "      <td>Lvl</td>\n",
       "      <td>Inside</td>\n",
       "      <td>CollgCr</td>\n",
       "      <td>Norm</td>\n",
       "      <td>Norm</td>\n",
       "      <td>1Fam</td>\n",
       "      <td>2Story</td>\n",
       "      <td>...</td>\n",
       "      <td>GasA</td>\n",
       "      <td>Y</td>\n",
       "      <td>SBrkr</td>\n",
       "      <td>Attchd</td>\n",
       "      <td>RFn</td>\n",
       "      <td>No</td>\n",
       "      <td>No</td>\n",
       "      <td>Sep</td>\n",
       "      <td>WD</td>\n",
       "      <td>Normal</td>\n",
       "    </tr>\n",
       "  </tbody>\n",
       "</table>\n",
       "<p>3 rows × 26 columns</p>\n",
       "</div>"
      ],
      "text/plain": [
       "  MSSubClass MSZoning Alley LandContour LotConfig Neighborhood Condition1  \\\n",
       "0       SC60       RL  None         Lvl    Inside      CollgCr       Norm   \n",
       "1       SC20       RL  None         Lvl       FR2      Veenker      Feedr   \n",
       "2       SC60       RL  None         Lvl    Inside      CollgCr       Norm   \n",
       "\n",
       "  Condition2 BldgType HouseStyle  ... Heating CentralAir Electrical  \\\n",
       "0       Norm     1Fam     2Story  ...    GasA          Y      SBrkr   \n",
       "1       Norm     1Fam     1Story  ...    GasA          Y      SBrkr   \n",
       "2       Norm     1Fam     2Story  ...    GasA          Y      SBrkr   \n",
       "\n",
       "  GarageType GarageFinish Fence MiscFeature MoSold SaleType SaleCondition  \n",
       "0     Attchd          RFn    No          No    Feb       WD        Normal  \n",
       "1     Attchd          RFn    No          No    May       WD        Normal  \n",
       "2     Attchd          RFn    No          No    Sep       WD        Normal  \n",
       "\n",
       "[3 rows x 26 columns]"
      ]
     },
     "execution_count": 19,
     "metadata": {},
     "output_type": "execute_result"
    }
   ],
   "source": [
    "train_cat.head(3)"
   ]
  },
  {
   "cell_type": "code",
   "execution_count": 20,
   "metadata": {},
   "outputs": [
    {
     "data": {
      "text/html": [
       "<div>\n",
       "<style scoped>\n",
       "    .dataframe tbody tr th:only-of-type {\n",
       "        vertical-align: middle;\n",
       "    }\n",
       "\n",
       "    .dataframe tbody tr th {\n",
       "        vertical-align: top;\n",
       "    }\n",
       "\n",
       "    .dataframe thead th {\n",
       "        text-align: right;\n",
       "    }\n",
       "</style>\n",
       "<table border=\"1\" class=\"dataframe\">\n",
       "  <thead>\n",
       "    <tr style=\"text-align: right;\">\n",
       "      <th></th>\n",
       "      <th>MSSubClass_SC120</th>\n",
       "      <th>MSSubClass_SC160</th>\n",
       "      <th>MSSubClass_SC180</th>\n",
       "      <th>MSSubClass_SC190</th>\n",
       "      <th>MSSubClass_SC20</th>\n",
       "      <th>MSSubClass_SC30</th>\n",
       "      <th>MSSubClass_SC40</th>\n",
       "      <th>MSSubClass_SC45</th>\n",
       "      <th>MSSubClass_SC50</th>\n",
       "      <th>MSSubClass_SC60</th>\n",
       "      <th>...</th>\n",
       "      <th>SaleType_ConLw</th>\n",
       "      <th>SaleType_New</th>\n",
       "      <th>SaleType_Oth</th>\n",
       "      <th>SaleType_WD</th>\n",
       "      <th>SaleCondition_Abnorml</th>\n",
       "      <th>SaleCondition_AdjLand</th>\n",
       "      <th>SaleCondition_Alloca</th>\n",
       "      <th>SaleCondition_Family</th>\n",
       "      <th>SaleCondition_Normal</th>\n",
       "      <th>SaleCondition_Partial</th>\n",
       "    </tr>\n",
       "  </thead>\n",
       "  <tbody>\n",
       "    <tr>\n",
       "      <th>0</th>\n",
       "      <td>0</td>\n",
       "      <td>0</td>\n",
       "      <td>0</td>\n",
       "      <td>0</td>\n",
       "      <td>0</td>\n",
       "      <td>0</td>\n",
       "      <td>0</td>\n",
       "      <td>0</td>\n",
       "      <td>0</td>\n",
       "      <td>1</td>\n",
       "      <td>...</td>\n",
       "      <td>0</td>\n",
       "      <td>0</td>\n",
       "      <td>0</td>\n",
       "      <td>1</td>\n",
       "      <td>0</td>\n",
       "      <td>0</td>\n",
       "      <td>0</td>\n",
       "      <td>0</td>\n",
       "      <td>1</td>\n",
       "      <td>0</td>\n",
       "    </tr>\n",
       "    <tr>\n",
       "      <th>1</th>\n",
       "      <td>0</td>\n",
       "      <td>0</td>\n",
       "      <td>0</td>\n",
       "      <td>0</td>\n",
       "      <td>1</td>\n",
       "      <td>0</td>\n",
       "      <td>0</td>\n",
       "      <td>0</td>\n",
       "      <td>0</td>\n",
       "      <td>0</td>\n",
       "      <td>...</td>\n",
       "      <td>0</td>\n",
       "      <td>0</td>\n",
       "      <td>0</td>\n",
       "      <td>1</td>\n",
       "      <td>0</td>\n",
       "      <td>0</td>\n",
       "      <td>0</td>\n",
       "      <td>0</td>\n",
       "      <td>1</td>\n",
       "      <td>0</td>\n",
       "    </tr>\n",
       "    <tr>\n",
       "      <th>2</th>\n",
       "      <td>0</td>\n",
       "      <td>0</td>\n",
       "      <td>0</td>\n",
       "      <td>0</td>\n",
       "      <td>0</td>\n",
       "      <td>0</td>\n",
       "      <td>0</td>\n",
       "      <td>0</td>\n",
       "      <td>0</td>\n",
       "      <td>1</td>\n",
       "      <td>...</td>\n",
       "      <td>0</td>\n",
       "      <td>0</td>\n",
       "      <td>0</td>\n",
       "      <td>1</td>\n",
       "      <td>0</td>\n",
       "      <td>0</td>\n",
       "      <td>0</td>\n",
       "      <td>0</td>\n",
       "      <td>1</td>\n",
       "      <td>0</td>\n",
       "    </tr>\n",
       "  </tbody>\n",
       "</table>\n",
       "<p>3 rows × 202 columns</p>\n",
       "</div>"
      ],
      "text/plain": [
       "   MSSubClass_SC120  MSSubClass_SC160  MSSubClass_SC180  MSSubClass_SC190  \\\n",
       "0                 0                 0                 0                 0   \n",
       "1                 0                 0                 0                 0   \n",
       "2                 0                 0                 0                 0   \n",
       "\n",
       "   MSSubClass_SC20  MSSubClass_SC30  MSSubClass_SC40  MSSubClass_SC45  \\\n",
       "0                0                0                0                0   \n",
       "1                1                0                0                0   \n",
       "2                0                0                0                0   \n",
       "\n",
       "   MSSubClass_SC50  MSSubClass_SC60  ...  SaleType_ConLw  SaleType_New  \\\n",
       "0                0                1  ...               0             0   \n",
       "1                0                0  ...               0             0   \n",
       "2                0                1  ...               0             0   \n",
       "\n",
       "   SaleType_Oth  SaleType_WD  SaleCondition_Abnorml  SaleCondition_AdjLand  \\\n",
       "0             0            1                      0                      0   \n",
       "1             0            1                      0                      0   \n",
       "2             0            1                      0                      0   \n",
       "\n",
       "   SaleCondition_Alloca  SaleCondition_Family  SaleCondition_Normal  \\\n",
       "0                     0                     0                     1   \n",
       "1                     0                     0                     1   \n",
       "2                     0                     0                     1   \n",
       "\n",
       "   SaleCondition_Partial  \n",
       "0                      0  \n",
       "1                      0  \n",
       "2                      0  \n",
       "\n",
       "[3 rows x 202 columns]"
      ]
     },
     "execution_count": 20,
     "metadata": {},
     "output_type": "execute_result"
    }
   ],
   "source": [
    "# 더미변수로만듬.\n",
    "pd.get_dummies(train_cat).head(3)"
   ]
  },
  {
   "cell_type": "code",
   "execution_count": 21,
   "metadata": {},
   "outputs": [
    {
     "name": "stdout",
     "output_type": "stream",
     "text": [
      "NAs for categorical features in train : 1\n",
      "Remaining NAs for categorical features in train : 0\n"
     ]
    }
   ],
   "source": [
    "# Create dummy features for categorical values via one-hot encoding\n",
    "print(\"NAs for categorical features in train : \" + str(train_cat.isnull().values.sum()))\n",
    "train_cat = pd.get_dummies(train_cat)\n",
    "print(\"Remaining NAs for categorical features in train : \" + str(train_cat.isnull().values.sum()))"
   ]
  },
  {
   "cell_type": "markdown",
   "metadata": {},
   "source": [
    "------------------------------------------------------------------------------------\n",
    "### Modeling"
   ]
  },
  {
   "cell_type": "code",
   "execution_count": 22,
   "metadata": {},
   "outputs": [
    {
     "name": "stdout",
     "output_type": "stream",
     "text": [
      "New number of features : 319\n",
      "X_train : (1019, 319)\n",
      "X_test : (437, 319)\n",
      "y_train : (1019,)\n",
      "y_test : (437,)\n"
     ]
    }
   ],
   "source": [
    "train=pd.concat([train_num, train_cat], axis=1)\n",
    "print(\"New number of features : \" + str(train.shape[1]))\n",
    "\n",
    "X_train,X_test,y_train,y_test=train_test_split(train,y,test_size=0.3, random_state=0)   # 여기서 y는 SalePrice를 로그취한것.\n",
    "print(\"X_train : \" + str(X_train.shape))\n",
    "print(\"X_test : \" + str(X_test.shape))\n",
    "print(\"y_train : \" + str(y_train.shape))\n",
    "print(\"y_test : \" + str(y_test.shape))"
   ]
  },
  {
   "cell_type": "markdown",
   "metadata": {},
   "source": [
    "* 스케일링 (StandardScaler)"
   ]
  },
  {
   "cell_type": "code",
   "execution_count": 23,
   "metadata": {},
   "outputs": [
    {
     "name": "stderr",
     "output_type": "stream",
     "text": [
      "/Users/suhyun/anaconda3/envs/suhyun2/lib/python3.6/site-packages/pandas/core/indexing.py:964: SettingWithCopyWarning: \n",
      "A value is trying to be set on a copy of a slice from a DataFrame.\n",
      "Try using .loc[row_indexer,col_indexer] = value instead\n",
      "\n",
      "See the caveats in the documentation: https://pandas.pydata.org/pandas-docs/stable/user_guide/indexing.html#returning-a-view-versus-a-copy\n",
      "  self.obj[item] = s\n",
      "/Users/suhyun/anaconda3/envs/suhyun2/lib/python3.6/site-packages/pandas/core/indexing.py:964: SettingWithCopyWarning: \n",
      "A value is trying to be set on a copy of a slice from a DataFrame.\n",
      "Try using .loc[row_indexer,col_indexer] = value instead\n",
      "\n",
      "See the caveats in the documentation: https://pandas.pydata.org/pandas-docs/stable/user_guide/indexing.html#returning-a-view-versus-a-copy\n",
      "  self.obj[item] = s\n"
     ]
    }
   ],
   "source": [
    "stdSc=StandardScaler()\n",
    "X_train.loc[:,numerical_features]=stdSc.fit_transform(X_train.loc[:,numerical_features])\n",
    "X_test.loc[:,numerical_features]=stdSc.transform(X_test.loc[:,numerical_features])"
   ]
  },
  {
   "cell_type": "code",
   "execution_count": 24,
   "metadata": {
    "scrolled": true
   },
   "outputs": [
    {
     "data": {
      "text/html": [
       "<div>\n",
       "<style scoped>\n",
       "    .dataframe tbody tr th:only-of-type {\n",
       "        vertical-align: middle;\n",
       "    }\n",
       "\n",
       "    .dataframe tbody tr th {\n",
       "        vertical-align: top;\n",
       "    }\n",
       "\n",
       "    .dataframe thead th {\n",
       "        text-align: right;\n",
       "    }\n",
       "</style>\n",
       "<table border=\"1\" class=\"dataframe\">\n",
       "  <thead>\n",
       "    <tr style=\"text-align: right;\">\n",
       "      <th></th>\n",
       "      <th>LotFrontage</th>\n",
       "      <th>LotArea</th>\n",
       "      <th>Street</th>\n",
       "      <th>LotShape</th>\n",
       "      <th>Utilities</th>\n",
       "      <th>LandSlope</th>\n",
       "      <th>OverallQual</th>\n",
       "      <th>OverallCond</th>\n",
       "      <th>YearBuilt</th>\n",
       "      <th>YearRemodAdd</th>\n",
       "      <th>...</th>\n",
       "      <th>GarageCars-Sq</th>\n",
       "      <th>TotalBath-2</th>\n",
       "      <th>TotalBath-3</th>\n",
       "      <th>TotalBath-Sq</th>\n",
       "      <th>KitchenQual-2</th>\n",
       "      <th>KitchenQual-3</th>\n",
       "      <th>KitchenQual-Sq</th>\n",
       "      <th>GarageScore-2</th>\n",
       "      <th>GarageScore-3</th>\n",
       "      <th>GarageScore-Sq</th>\n",
       "    </tr>\n",
       "  </thead>\n",
       "  <tbody>\n",
       "    <tr>\n",
       "      <th>328</th>\n",
       "      <td>-1.720</td>\n",
       "      <td>0.533</td>\n",
       "      <td>0.063</td>\n",
       "      <td>-0.930</td>\n",
       "      <td>0.031</td>\n",
       "      <td>0.227</td>\n",
       "      <td>-0.058</td>\n",
       "      <td>0.475</td>\n",
       "      <td>-1.775</td>\n",
       "      <td>0.436</td>\n",
       "      <td>...</td>\n",
       "      <td>0.377</td>\n",
       "      <td>-0.161</td>\n",
       "      <td>-0.158</td>\n",
       "      <td>-0.170</td>\n",
       "      <td>0.807</td>\n",
       "      <td>0.809</td>\n",
       "      <td>0.793</td>\n",
       "      <td>0.221</td>\n",
       "      <td>0.221</td>\n",
       "      <td>0.221</td>\n",
       "    </tr>\n",
       "    <tr>\n",
       "      <th>1026</th>\n",
       "      <td>0.467</td>\n",
       "      <td>0.031</td>\n",
       "      <td>0.063</td>\n",
       "      <td>0.671</td>\n",
       "      <td>0.031</td>\n",
       "      <td>0.227</td>\n",
       "      <td>-0.794</td>\n",
       "      <td>-0.421</td>\n",
       "      <td>-0.338</td>\n",
       "      <td>-1.221</td>\n",
       "      <td>...</td>\n",
       "      <td>0.377</td>\n",
       "      <td>-0.161</td>\n",
       "      <td>-0.158</td>\n",
       "      <td>-0.170</td>\n",
       "      <td>-0.754</td>\n",
       "      <td>-0.750</td>\n",
       "      <td>-0.764</td>\n",
       "      <td>0.247</td>\n",
       "      <td>0.247</td>\n",
       "      <td>0.246</td>\n",
       "    </tr>\n",
       "    <tr>\n",
       "      <th>843</th>\n",
       "      <td>0.677</td>\n",
       "      <td>-0.277</td>\n",
       "      <td>0.063</td>\n",
       "      <td>0.671</td>\n",
       "      <td>0.031</td>\n",
       "      <td>0.227</td>\n",
       "      <td>-0.794</td>\n",
       "      <td>-1.480</td>\n",
       "      <td>-0.306</td>\n",
       "      <td>-1.173</td>\n",
       "      <td>...</td>\n",
       "      <td>-3.632</td>\n",
       "      <td>-0.161</td>\n",
       "      <td>-0.158</td>\n",
       "      <td>-0.170</td>\n",
       "      <td>-0.754</td>\n",
       "      <td>-0.750</td>\n",
       "      <td>-0.764</td>\n",
       "      <td>-3.955</td>\n",
       "      <td>-3.955</td>\n",
       "      <td>-3.963</td>\n",
       "    </tr>\n",
       "    <tr>\n",
       "      <th>994</th>\n",
       "      <td>1.156</td>\n",
       "      <td>0.629</td>\n",
       "      <td>0.063</td>\n",
       "      <td>0.671</td>\n",
       "      <td>0.031</td>\n",
       "      <td>0.227</td>\n",
       "      <td>2.886</td>\n",
       "      <td>-0.421</td>\n",
       "      <td>1.129</td>\n",
       "      <td>1.070</td>\n",
       "      <td>...</td>\n",
       "      <td>0.939</td>\n",
       "      <td>1.029</td>\n",
       "      <td>1.032</td>\n",
       "      <td>1.020</td>\n",
       "      <td>2.058</td>\n",
       "      <td>2.035</td>\n",
       "      <td>2.164</td>\n",
       "      <td>0.557</td>\n",
       "      <td>0.557</td>\n",
       "      <td>0.547</td>\n",
       "    </tr>\n",
       "    <tr>\n",
       "      <th>1226</th>\n",
       "      <td>0.856</td>\n",
       "      <td>0.953</td>\n",
       "      <td>0.063</td>\n",
       "      <td>-0.930</td>\n",
       "      <td>0.031</td>\n",
       "      <td>0.227</td>\n",
       "      <td>-0.058</td>\n",
       "      <td>-0.421</td>\n",
       "      <td>1.161</td>\n",
       "      <td>1.070</td>\n",
       "      <td>...</td>\n",
       "      <td>0.939</td>\n",
       "      <td>0.477</td>\n",
       "      <td>0.485</td>\n",
       "      <td>0.455</td>\n",
       "      <td>0.807</td>\n",
       "      <td>0.809</td>\n",
       "      <td>0.793</td>\n",
       "      <td>0.462</td>\n",
       "      <td>0.462</td>\n",
       "      <td>0.455</td>\n",
       "    </tr>\n",
       "  </tbody>\n",
       "</table>\n",
       "<p>5 rows × 117 columns</p>\n",
       "</div>"
      ],
      "text/plain": [
       "      LotFrontage  LotArea  Street  LotShape  Utilities  LandSlope  \\\n",
       "328        -1.720    0.533   0.063    -0.930      0.031      0.227   \n",
       "1026        0.467    0.031   0.063     0.671      0.031      0.227   \n",
       "843         0.677   -0.277   0.063     0.671      0.031      0.227   \n",
       "994         1.156    0.629   0.063     0.671      0.031      0.227   \n",
       "1226        0.856    0.953   0.063    -0.930      0.031      0.227   \n",
       "\n",
       "      OverallQual  OverallCond  YearBuilt  YearRemodAdd  ...  GarageCars-Sq  \\\n",
       "328        -0.058        0.475     -1.775         0.436  ...          0.377   \n",
       "1026       -0.794       -0.421     -0.338        -1.221  ...          0.377   \n",
       "843        -0.794       -1.480     -0.306        -1.173  ...         -3.632   \n",
       "994         2.886       -0.421      1.129         1.070  ...          0.939   \n",
       "1226       -0.058       -0.421      1.161         1.070  ...          0.939   \n",
       "\n",
       "      TotalBath-2  TotalBath-3  TotalBath-Sq  KitchenQual-2  KitchenQual-3  \\\n",
       "328        -0.161       -0.158        -0.170          0.807          0.809   \n",
       "1026       -0.161       -0.158        -0.170         -0.754         -0.750   \n",
       "843        -0.161       -0.158        -0.170         -0.754         -0.750   \n",
       "994         1.029        1.032         1.020          2.058          2.035   \n",
       "1226        0.477        0.485         0.455          0.807          0.809   \n",
       "\n",
       "      KitchenQual-Sq  GarageScore-2  GarageScore-3  GarageScore-Sq  \n",
       "328            0.793          0.221          0.221           0.221  \n",
       "1026          -0.764          0.247          0.247           0.246  \n",
       "843           -0.764         -3.955         -3.955          -3.963  \n",
       "994            2.164          0.557          0.557           0.547  \n",
       "1226           0.793          0.462          0.462           0.455  \n",
       "\n",
       "[5 rows x 117 columns]"
      ]
     },
     "execution_count": 24,
     "metadata": {},
     "output_type": "execute_result"
    }
   ],
   "source": [
    "# 스케일링 후\n",
    "X_train.loc[:,numerical_features].head()"
   ]
  },
  {
   "cell_type": "markdown",
   "metadata": {},
   "source": [
    "* RMSE정의"
   ]
  },
  {
   "cell_type": "code",
   "execution_count": 25,
   "metadata": {},
   "outputs": [
    {
     "data": {
      "text/plain": [
       "<function sklearn.metrics._scorer.make_scorer(score_func, greater_is_better=True, needs_proba=False, needs_threshold=False, **kwargs)>"
      ]
     },
     "execution_count": 25,
     "metadata": {},
     "output_type": "execute_result"
    }
   ],
   "source": [
    "make_scorer"
   ]
  },
  {
   "cell_type": "code",
   "execution_count": 27,
   "metadata": {},
   "outputs": [
    {
     "data": {
      "text/plain": [
       "0.41796306672777817"
      ]
     },
     "execution_count": 27,
     "metadata": {},
     "output_type": "execute_result"
    }
   ],
   "source": [
    "lr=LinearRegression()\n",
    "lr.fit(X_train,y_train)\n",
    "# cross-validation 10번 한것의 평균값으로\n",
    "scorer=make_scorer(mean_squared_error,greater_is_better=False)\n",
    "np.sqrt(-cross_val_score(lr, X_test, y_test, scoring=scorer, cv=10)).mean()"
   ]
  },
  {
   "cell_type": "markdown",
   "metadata": {},
   "source": [
    "* cross_val_score()\n",
    "    * estimator : 학습할 모델\n",
    "    * x: 학습시킬 훈련 데이터\n",
    "    * y : 학습시킬 훈련 데이터의 Label\n",
    "    * scoring : 각모델에서 사용할 평가 방법\n",
    "        * Regression모델에서는 MSE를 얻기위해 주로  'neg_mean_squared_error'값 사용.\n",
    "    * cv : Fold의 수"
   ]
  },
  {
   "cell_type": "code",
   "execution_count": 28,
   "metadata": {},
   "outputs": [],
   "source": [
    "scorer=make_scorer(mean_squared_error,greater_is_better=False)\n",
    "# cross-validation\n",
    "def rmse_cv_train(model):\n",
    "    # 평가 결과는 neg_mean_squared_error값으로 리턴되는 코드, 이를 양수로 바꾸고 rmse를 계산.\n",
    "    rmse=np.sqrt(-cross_val_score(model, X_train, y_train, scoring=scorer, cv=10))\n",
    "    return(rmse)\n",
    "\n",
    "def rmse_cv_test(model):\n",
    "    rmse= np.sqrt(-cross_val_score(model, X_test, y_test, scoring = scorer, cv = 10))\n",
    "    return(rmse)"
   ]
  },
  {
   "cell_type": "markdown",
   "metadata": {},
   "source": [
    "### [1] regularization없이 선형회귀\n",
    "**1 * Linear Regression without regularization**\n",
    "* RMSE on Test set : 4.917572756174604"
   ]
  },
  {
   "cell_type": "markdown",
   "metadata": {},
   "source": [
    "> 오차\n",
    "* 만약 모집단에서 회귀식을 얻었다면, 그 회귀식을 통해 얻은 예측값과 실제 관측값의 차이 <br>\n",
    "\n",
    "> 잔차\n",
    "* 표본집단에서 회귀식을 얻었다면, 그 회귀식을 통해 얻은 예측값과 실제 관측값의 차이"
   ]
  },
  {
   "cell_type": "code",
   "execution_count": 29,
   "metadata": {},
   "outputs": [
    {
     "name": "stdout",
     "output_type": "stream",
     "text": [
      "RMSE on Training set : 0.3889446260408515\n",
      "RMSE on Test set : 0.41796306672777817\n"
     ]
    },
    {
     "data": {
      "image/png": "[encoded data removed]",
      "text/plain": [
       "<Figure size 432x288 with 1 Axes>"
      ]
     },
     "metadata": {
      "needs_background": "light"
     },
     "output_type": "display_data"
    },
    {
     "data": {
      "image/png": "[encoded data removed]",
      "text/plain": [
       "<Figure size 432x288 with 1 Axes>"
      ]
     },
     "metadata": {
      "needs_background": "light"
     },
     "output_type": "display_data"
    }
   ],
   "source": [
    "lr=LinearRegression()\n",
    "lr.fit(X_train,y_train)\n",
    "\n",
    "# Look at predictions on training and validation set\n",
    "print(\"RMSE on Training set :\", rmse_cv_train(lr).mean())\n",
    "print(\"RMSE on Test set :\", rmse_cv_test(lr).mean())\n",
    "\n",
    "y_train_pred=lr.predict(X_train)\n",
    "y_test_pred=lr.predict(X_test)\n",
    "\n",
    "# 잔차=> 예측값-실제값\n",
    "## x축 : 예측값, y축: 예측값-실제값\n",
    "plt.scatter(y_train_pred, y_train_pred-y_train, c=\"blue\", marker=\"s\", label=\"Training data\")\n",
    "plt.scatter(y_test_pred, y_test_pred-y_test, c=\"lightgreen\", marker=\"s\", label=\"Validation data\")\n",
    "plt.title(\"Linear regression\")\n",
    "plt.xlabel(\"Predicted values\")\n",
    "plt.ylabel(\"Residuals\")\n",
    "plt.legend(loc=\"upper left\")\n",
    "plt.hlines(y=0, xmin=10.5, xmax=13.5, color=\"red\")\n",
    "plt.show()\n",
    "\n",
    "# 예측값 그리기\n",
    "# Plot predictions\n",
    "plt.scatter(y_train_pred, y_train, c = \"blue\", marker = \"s\", label = \"Training data\")\n",
    "plt.scatter(y_test_pred, y_test, c = \"lightgreen\", marker = \"s\", label = \"Validation data\")\n",
    "plt.title(\"Linear regression\")\n",
    "plt.xlabel(\"Predicted values\")\n",
    "plt.ylabel(\"Real values\")\n",
    "plt.legend(loc = \"upper left\")\n",
    "plt.plot([10.5, 13.5], [10.5, 13.5], c = \"red\")\n",
    "plt.show()"
   ]
  },
  {
   "cell_type": "markdown",
   "metadata": {},
   "source": [
    "> Error는 센터 라인 주변으로 랜덤하게 분포되어있다. 그 의미는 이 모델이 대부분의 설명가능한 정보를 포함하고있다는것을 의미한다.\n",
    "*  (+) training set에 RMSE값은 좀 이상함."
   ]
  },
  {
   "cell_type": "markdown",
   "metadata": {},
   "source": [
    "### [2] Ridge(릿지) L2 penalty\n",
    "**2 * Linear Regression with Ridge regularization (L2 penalty)** \n",
    "\n",
    "* Regularization은 다중공선성을 다루고, 데이터의 노이즈를 필터링하고, overfitting을 방지하는데 유용한 방법이다. regularization의 컨셉은 극단적인 파라미터의 weights에 패널티를 주기위해 bias라는 추가적인 정보를 도입하는것이다.\n",
    "* L2 penalized model은 squared sum of the weights 를 cost function에 추가하는 것이다.\n",
    "\n",
    "> 계수를 0에 가깝게 만드는 모델이므로, 아래 bar-plot으로 계수(coefficeint)가 큰것 상위10개, 계수가 작은것 하위 10개를 나타냄."
   ]
  },
  {
   "cell_type": "code",
   "execution_count": 30,
   "metadata": {},
   "outputs": [
    {
     "name": "stdout",
     "output_type": "stream",
     "text": [
      "Best alpha : 30.0\n",
      "Try again for more precision with alphas centered around 30.0\n",
      "Best alpha : 24.0\n",
      "Ridge RMSE on Training set : 0.11540572328450796\n",
      "Ridge RMSE on Test set : 0.11642721377799559\n"
     ]
    },
    {
     "data": {
      "image/png": "[encoded data removed]",
      "text/plain": [
       "<Figure size 432x288 with 1 Axes>"
      ]
     },
     "metadata": {
      "needs_background": "light"
     },
     "output_type": "display_data"
    },
    {
     "data": {
      "image/png": "[encoded data removed]",
      "text/plain": [
       "<Figure size 432x288 with 1 Axes>"
      ]
     },
     "metadata": {
      "needs_background": "light"
     },
     "output_type": "display_data"
    }
   ],
   "source": [
    "# 2* Ridge\n",
    "ridge = RidgeCV(alphas = [0.01, 0.03, 0.06, 0.1, 0.3, 0.6, 1, 3, 6, 10, 30, 60])\n",
    "ridge.fit(X_train, y_train)\n",
    "# alpha 값은 규제의 강도를 의미\n",
    "alpha = ridge.alpha_\n",
    "print(\"Best alpha :\", alpha)\n",
    "\n",
    "print(\"Try again for more precision with alphas centered around \" + str(alpha))\n",
    "ridge = RidgeCV(alphas = [alpha * .6, alpha * .65, alpha * .7, alpha * .75, alpha * .8, alpha * .85, \n",
    "                          alpha * .9, alpha * .95, alpha, alpha * 1.05, alpha * 1.1, alpha * 1.15,\n",
    "                          alpha * 1.25, alpha * 1.3, alpha * 1.35, alpha * 1.4], \n",
    "                cv = 10)\n",
    "ridge.fit(X_train, y_train)\n",
    "alpha = ridge.alpha_\n",
    "print(\"Best alpha :\", alpha)\n",
    "\n",
    "print(\"Ridge RMSE on Training set :\", rmse_cv_train(ridge).mean())\n",
    "print(\"Ridge RMSE on Test set :\", rmse_cv_test(ridge).mean())\n",
    "y_train_rdg = ridge.predict(X_train)\n",
    "y_test_rdg = ridge.predict(X_test)\n",
    "\n",
    "# Plot residuals\n",
    "plt.scatter(y_train_rdg, y_train_rdg - y_train, c = \"blue\", marker = \"s\", label = \"Training data\")\n",
    "plt.scatter(y_test_rdg, y_test_rdg - y_test, c = \"lightgreen\", marker = \"s\", label = \"Validation data\")\n",
    "plt.title(\"Linear regression with Ridge regularization\")\n",
    "plt.xlabel(\"Predicted values\")\n",
    "plt.ylabel(\"Residuals\")\n",
    "plt.legend(loc = \"upper left\")\n",
    "plt.hlines(y = 0, xmin = 10.5, xmax = 13.5, color = \"red\")\n",
    "plt.show()\n",
    "\n",
    "# Plot predictions\n",
    "plt.scatter(y_train_rdg, y_train, c = \"blue\", marker = \"s\", label = \"Training data\")\n",
    "plt.scatter(y_test_rdg, y_test, c = \"lightgreen\", marker = \"s\", label = \"Validation data\")\n",
    "plt.title(\"Linear regression with Ridge regularization\")\n",
    "plt.xlabel(\"Predicted values\")\n",
    "plt.ylabel(\"Real values\")\n",
    "plt.legend(loc = \"upper left\")\n",
    "plt.plot([10.5, 13.5], [10.5, 13.5], c = \"red\")\n",
    "plt.show()"
   ]
  },
  {
   "cell_type": "code",
   "execution_count": 31,
   "metadata": {},
   "outputs": [
    {
     "data": {
      "text/plain": [
       "Condition2_RRAe    0.000\n",
       "RoofMatl_Membran   0.000\n",
       "MiscFeature_TenC   0.000\n",
       "dtype: float64"
      ]
     },
     "execution_count": 31,
     "metadata": {},
     "output_type": "execute_result"
    }
   ],
   "source": [
    "# 계수가 0인애들\n",
    "coefs = pd.Series(ridge.coef_, index = X_train.columns)\n",
    "coefs[coefs==0]"
   ]
  },
  {
   "cell_type": "code",
   "execution_count": 32,
   "metadata": {},
   "outputs": [
    {
     "data": {
      "text/plain": [
       "MSZoning_C (all)        -0.055\n",
       "Neighborhood_Edwards    -0.038\n",
       "Neighborhood_IDOTRR     -0.033\n",
       "SaleCondition_Abnorml   -0.030\n",
       "Condition1_Artery       -0.030\n",
       "                         ...  \n",
       "LotArea                  0.037\n",
       "Condition1_Norm          0.040\n",
       "YearBuilt                0.041\n",
       "OverallGrade             0.041\n",
       "Neighborhood_Crawfor     0.066\n",
       "Length: 319, dtype: float64"
      ]
     },
     "execution_count": 32,
     "metadata": {},
     "output_type": "execute_result"
    }
   ],
   "source": [
    "coefs.sort_values()"
   ]
  },
  {
   "cell_type": "code",
   "execution_count": 33,
   "metadata": {},
   "outputs": [
    {
     "name": "stdout",
     "output_type": "stream",
     "text": [
      "Ridge picked 316 features and eliminated the other 3 features\n"
     ]
    },
    {
     "data": {
      "image/png": "[encoded data removed]",
      "text/plain": [
       "<Figure size 432x288 with 1 Axes>"
      ]
     },
     "metadata": {
      "needs_background": "light"
     },
     "output_type": "display_data"
    }
   ],
   "source": [
    "# Plot important coefficients\n",
    "coefs = pd.Series(ridge.coef_, index = X_train.columns)\n",
    "print(\"Ridge picked \" + str(sum(coefs != 0)) + \" features and eliminated the other \" +  \\\n",
    "      str(sum(coefs == 0)) + \" features\")\n",
    "imp_coefs = pd.concat([coefs.sort_values().head(10),\n",
    "                     coefs.sort_values().tail(10)])\n",
    "imp_coefs.plot(kind = \"barh\")\n",
    "plt.title(\"Coefficients in the Ridge Model\")\n",
    "plt.show()"
   ]
  },
  {
   "cell_type": "markdown",
   "metadata": {},
   "source": [
    "### [3] Lasso(라쏘)\n",
    "**3 * Linear Regression with Lasso regularization (L1 penalty)**\n",
    "* 여기서는 릿지보다 라쏘가 더 효과적일것이라 기대.\n",
    "* 라쏘는 덜 중요한 변수의 가중치를 0으로 만들어버려 변수선택의 효과가 있다)"
   ]
  },
  {
   "cell_type": "code",
   "execution_count": 35,
   "metadata": {},
   "outputs": [
    {
     "name": "stdout",
     "output_type": "stream",
     "text": [
      "Best alpha : 0.0006\n",
      "Try again for more precision with alphas centered around 0.0006\n",
      "Best alpha : 0.0006\n",
      "Lasso RMSE on Training set : 0.11411150837458059\n",
      "Lasso RMSE on Test set: 0.11583213221750707\n"
     ]
    },
    {
     "data": {
      "image/png": "[encoded data removed]",
      "text/plain": [
       "<Figure size 432x288 with 1 Axes>"
      ]
     },
     "metadata": {
      "needs_background": "light"
     },
     "output_type": "display_data"
    },
    {
     "data": {
      "image/png": "[encoded data removed]",
      "text/plain": [
       "<Figure size 432x288 with 1 Axes>"
      ]
     },
     "metadata": {
      "needs_background": "light"
     },
     "output_type": "display_data"
    }
   ],
   "source": [
    "lasso = LassoCV(alphas = [0.0001, 0.0003, 0.0006, 0.001, 0.003, 0.006, 0.01, 0.03, 0.06, 0.1, \n",
    "                          0.3, 0.6, 1], \n",
    "                max_iter = 50000, cv = 10)\n",
    "lasso.fit(X_train, y_train)\n",
    "alpha=lasso.alpha_\n",
    "print(\"Best alpha :\", alpha)   # Best alpha : 0.0006\n",
    "\n",
    "print(\"Try again for more precision with alphas centered around \" + str(alpha))\n",
    "lasso = LassoCV(alphas = [alpha * .6, alpha * .65, alpha * .7, alpha * .75, alpha * .8, \n",
    "                          alpha * .85, alpha * .9, alpha * .95, alpha, alpha * 1.05, \n",
    "                          alpha * 1.1, alpha * 1.15, alpha * 1.25, alpha * 1.3, alpha * 1.35, \n",
    "                          alpha * 1.4], \n",
    "                max_iter = 50000, cv = 10)\n",
    "lasso.fit(X_train, y_train)\n",
    "alpha = lasso.alpha_\n",
    "print(\"Best alpha :\", alpha)\n",
    "\n",
    "print(\"Lasso RMSE on Training set :\", rmse_cv_train(lasso).mean())\n",
    "print(\"Lasso RMSE on Test set:\", rmse_cv_test(lasso).mean())\n",
    "y_train_las=lasso.predict(X_train)\n",
    "y_test_las=lasso.predict(X_test)\n",
    "\n",
    "# Plot residuals\n",
    "plt.scatter(y_train_las, y_train_las-y_train, c='blue', marker='s', label='Training data')\n",
    "plt.scatter(y_test_las, y_test_las - y_test, c = \"lightgreen\", marker = \"s\", label = \"Validation data\")\n",
    "plt.title(\"Linear regression with Lasso regularization\")\n",
    "plt.xlabel(\"Predicted values\")\n",
    "plt.ylabel(\"Residuals\")\n",
    "plt.legend(loc = \"upper left\")\n",
    "plt.hlines(y = 0, xmin = 10.5, xmax = 13.5, color = \"red\")\n",
    "plt.show()\n",
    "\n",
    "# Plot predictions\n",
    "plt.scatter(y_train_las, y_train, c = \"blue\", marker = \"s\", label = \"Training data\")\n",
    "plt.scatter(y_test_las, y_test, c = \"lightgreen\", marker = \"s\", label = \"Validation data\")\n",
    "plt.title(\"Linear regression with Lasso regularization\")\n",
    "plt.xlabel(\"Predicted values\")\n",
    "plt.ylabel(\"Real values\")\n",
    "plt.legend(loc = \"upper left\")\n",
    "plt.plot([10.5, 13.5], [10.5, 13.5], c = \"red\")\n",
    "plt.show()"
   ]
  },
  {
   "cell_type": "code",
   "execution_count": 39,
   "metadata": {},
   "outputs": [
    {
     "name": "stdout",
     "output_type": "stream",
     "text": [
      "Lasso picked 111 features and eliminated the other 208 features\n"
     ]
    },
    {
     "data": {
      "image/png": "[encoded data removed]",
      "text/plain": [
       "<Figure size 432x288 with 1 Axes>"
      ]
     },
     "metadata": {
      "needs_background": "light"
     },
     "output_type": "display_data"
    }
   ],
   "source": [
    "# Plot important coefficients\n",
    "coefs=pd.Series(lasso.coef_, index=X_train.columns)\n",
    "print(\"Lasso picked \" + str(sum(coefs != 0)) + \" features and eliminated the other \" +  \\\n",
    "      str(sum(coefs == 0)) + \" features\")\n",
    "imp_coefs=pd.concat([coefs.sort_values().head(10), coefs.sort_values().tail(10)])\n",
    "imp_coefs.plot(kind='barh')\n",
    "plt.title(\"Coefficients in the Lasso Model\")\n",
    "plt.show()"
   ]
  },
  {
   "cell_type": "markdown",
   "metadata": {},
   "source": [
    "* training과 test set에서 RMSE값이 더 좋아졌다. 여기서 인상깊은 점은 Lasso는 오직 111개의 feature만 사용했다는 점이다. (Ridge는 316개사용)\n",
    "* 또다른 특이점은 양수와 음수인것 모두 Neighborhood 카테고리에 큰 가중치를 줬다는 것이다.\n",
    "    * 이것은 일리가있다. 집가격은 한 neighborhood에서 같은 지역에 다른 neighborohod에 의해 변동이 많기때문에.\n",
    "* MSZoning_C(all) 변수는 다른것들에 비해 과장된 효과인것으로 보임.\n",
    "    * 가장 상업적인 구역에 집이 있는것은 끔찍하기 때문에 나에겐 좀 이상해보임."
   ]
  },
  {
   "cell_type": "markdown",
   "metadata": {},
   "source": [
    "### [4] ElasticNet\n",
    "**4 * Linear Regression with ElasticNet regularization (L1 and L2 penalty)**\n",
    "\n",
    "* 엘라스틱 넷(Elastic Net)은 릿지회귀와 라쏘회귀를 절충한 모델이다.\n",
    "    * 규제항은 릿지와 회귀의 규제항을 단순히 더해서 사용하며, 두 규제항의 혼합정도를 혼합비율 r을 사용해 조절한다.\n",
    "        * r=0이면 릿지회귀와 같고, r=1이면 라쏘회귀와 같다.\n",
    "        \n",
    "* 언제 엘라스틱 넷을 사용하면 좋을까\n",
    "    * 극단적으로 변수의 수가 훈련샘플의 수 보다도 많고, 변수 몇개가 강하게 연관(다중공선성 의심)되어 있을 경우에는 라쏘에 문제가 발생하므로 엘라스틱넷을 선호한다."
   ]
  },
  {
   "cell_type": "code",
   "execution_count": 43,
   "metadata": {},
   "outputs": [
    {
     "name": "stderr",
     "output_type": "stream",
     "text": [
      "/Users/suhyun/anaconda3/envs/suhyun2/lib/python3.6/site-packages/sklearn/linear_model/_coordinate_descent.py:472: ConvergenceWarning: Objective did not converge. You might want to increase the number of iterations. Duality gap: 0.05083180988642688, tolerance: 0.01426910245430051\n",
      "  tol, rng, random, positive)\n",
      "/Users/suhyun/anaconda3/envs/suhyun2/lib/python3.6/site-packages/sklearn/linear_model/_coordinate_descent.py:472: ConvergenceWarning: Objective did not converge. You might want to increase the number of iterations. Duality gap: 0.04478905990840776, tolerance: 0.014439328514818323\n",
      "  tol, rng, random, positive)\n"
     ]
    },
    {
     "name": "stdout",
     "output_type": "stream",
     "text": [
      "Best l1_ratio : 1.0\n",
      "Best alpha : 0.0006\n",
      "Try again for more precision with l1_ratio centered around 1.0\n",
      "Best l1_ratio : 1.0\n",
      "Best alpha : 0.0006\n",
      "Now try again for more precision on alpha, with l1_ratio fixed at 1.0 and alpha centered around 0.0006\n",
      "Best l1_ratio : 1.0\n",
      "Best alpha : 0.0006\n",
      "ElasticNet RMSE on Training set : 0.11411150837458059\n",
      "ElasticNet RMSE on Test set : 0.11583213221750707\n"
     ]
    },
    {
     "data": {
      "image/png": "[encoded data removed]",
      "text/plain": [
       "<Figure size 432x288 with 1 Axes>"
      ]
     },
     "metadata": {
      "needs_background": "light"
     },
     "output_type": "display_data"
    },
    {
     "data": {
      "image/png": "[encoded data removed]",
      "text/plain": [
       "<Figure size 432x288 with 1 Axes>"
      ]
     },
     "metadata": {
      "needs_background": "light"
     },
     "output_type": "display_data"
    }
   ],
   "source": [
    "# 4* ElasticNet\n",
    "elasticNet = ElasticNetCV(l1_ratio = [0.1, 0.3, 0.5, 0.6, 0.7, 0.8, 0.85, 0.9, 0.95, 1],\n",
    "                          alphas = [0.0001, 0.0003, 0.0006, 0.001, 0.003, 0.006, \n",
    "                                    0.01, 0.03, 0.06, 0.1, 0.3, 0.6, 1, 3, 6], \n",
    "                          max_iter = 50000, cv = 10)\n",
    "elasticNet.fit(X_train, y_train)\n",
    "alpha = elasticNet.alpha_\n",
    "ratio = elasticNet.l1_ratio_\n",
    "print(\"Best l1_ratio :\", ratio)\n",
    "print(\"Best alpha :\", alpha )\n",
    "\n",
    "print(\"Try again for more precision with l1_ratio centered around \" + str(ratio))\n",
    "elasticNet = ElasticNetCV(l1_ratio = [ratio * .85, ratio * .9, ratio * .95, ratio, ratio * 1.05, ratio * 1.1, ratio * 1.15],\n",
    "                          alphas = [0.0001, 0.0003, 0.0006, 0.001, 0.003, 0.006, 0.01, 0.03, 0.06, 0.1, 0.3, 0.6, 1, 3, 6], \n",
    "                          max_iter = 50000, cv = 10)\n",
    "elasticNet.fit(X_train, y_train)\n",
    "if (elasticNet.l1_ratio_ > 1):   # 릿지보다 라쏘모델이 더 좋았으므로, r=1로해서 라쏘회귀에 가깝게조정\n",
    "    elasticNet.l1_ratio_ = 1    \n",
    "alpha = elasticNet.alpha_\n",
    "ratio = elasticNet.l1_ratio_\n",
    "print(\"Best l1_ratio :\", ratio)\n",
    "print(\"Best alpha :\", alpha )\n",
    "\n",
    "print(\"Now try again for more precision on alpha, with l1_ratio fixed at \" + str(ratio) + \n",
    "      \" and alpha centered around \" + str(alpha))\n",
    "elasticNet = ElasticNetCV(l1_ratio = ratio,\n",
    "                          alphas = [alpha * .6, alpha * .65, alpha * .7, alpha * .75, alpha * .8, alpha * .85, alpha * .9, \n",
    "                                    alpha * .95, alpha, alpha * 1.05, alpha * 1.1, alpha * 1.15, alpha * 1.25, alpha * 1.3, \n",
    "                                    alpha * 1.35, alpha * 1.4], \n",
    "                          max_iter = 50000, cv = 10)\n",
    "elasticNet.fit(X_train, y_train)\n",
    "if (elasticNet.l1_ratio_ > 1):\n",
    "    elasticNet.l1_ratio_ = 1    \n",
    "alpha = elasticNet.alpha_\n",
    "ratio = elasticNet.l1_ratio_\n",
    "print(\"Best l1_ratio :\", ratio)\n",
    "print(\"Best alpha :\", alpha )\n",
    "\n",
    "print(\"ElasticNet RMSE on Training set :\", rmse_cv_train(elasticNet).mean())\n",
    "print(\"ElasticNet RMSE on Test set :\", rmse_cv_test(elasticNet).mean())\n",
    "y_train_ela = elasticNet.predict(X_train)\n",
    "y_test_ela = elasticNet.predict(X_test)\n",
    "\n",
    "# Plot residuals\n",
    "plt.scatter(y_train_ela, y_train_ela - y_train, c = \"blue\", marker = \"s\", label = \"Training data\")\n",
    "plt.scatter(y_test_ela, y_test_ela - y_test, c = \"lightgreen\", marker = \"s\", label = \"Validation data\")\n",
    "plt.title(\"Linear regression with ElasticNet regularization\")\n",
    "plt.xlabel(\"Predicted values\")\n",
    "plt.ylabel(\"Residuals\")\n",
    "plt.legend(loc = \"upper left\")\n",
    "plt.hlines(y = 0, xmin = 10.5, xmax = 13.5, color = \"red\")\n",
    "plt.show()\n",
    "\n",
    "# Plot predictions\n",
    "plt.scatter(y_train, y_train_ela, c = \"blue\", marker = \"s\", label = \"Training data\")\n",
    "plt.scatter(y_test, y_test_ela, c = \"lightgreen\", marker = \"s\", label = \"Validation data\")\n",
    "plt.title(\"Linear regression with ElasticNet regularization\")\n",
    "plt.xlabel(\"Predicted values\")\n",
    "plt.ylabel(\"Real values\")\n",
    "plt.legend(loc = \"upper left\")\n",
    "plt.plot([10.5, 13.5], [10.5, 13.5], c = \"red\")\n",
    "plt.show()"
   ]
  },
  {
   "cell_type": "code",
   "execution_count": 44,
   "metadata": {},
   "outputs": [
    {
     "name": "stdout",
     "output_type": "stream",
     "text": [
      "ElasticNet picked 111 features and eliminated the other 208 features\n"
     ]
    },
    {
     "data": {
      "image/png": "[encoded data removed]",
      "text/plain": [
       "<Figure size 432x288 with 1 Axes>"
      ]
     },
     "metadata": {
      "needs_background": "light"
     },
     "output_type": "display_data"
    }
   ],
   "source": [
    "# Plot important coefficients\n",
    "coefs = pd.Series(elasticNet.coef_, index = X_train.columns)\n",
    "print(\"ElasticNet picked \" + str(sum(coefs != 0)) + \" features and eliminated the other \" +  str(sum(coefs == 0)) + \" features\")\n",
    "imp_coefs = pd.concat([coefs.sort_values().head(10),\n",
    "                     coefs.sort_values().tail(10)])\n",
    "imp_coefs.plot(kind = \"barh\")\n",
    "plt.title(\"Coefficients in the ElasticNet Model\")\n",
    "plt.show()"
   ]
  },
  {
   "cell_type": "code",
   "execution_count": null,
   "metadata": {},
   "outputs": [],
   "source": []
  },
  {
   "cell_type": "code",
   "execution_count": null,
   "metadata": {},
   "outputs": [],
   "source": []
  },
  {
   "cell_type": "code",
   "execution_count": null,
   "metadata": {},
   "outputs": [],
   "source": []
  }
 ],
 "metadata": {
  "kernelspec": {
   "display_name": "suhyun2",
   "language": "python",
   "name": "suhyun2"
  },
  "language_info": {
   "codemirror_mode": {
    "name": "ipython",
    "version": 3
   },
   "file_extension": ".py",
   "mimetype": "text/x-python",
   "name": "python",
   "nbconvert_exporter": "python",
   "pygments_lexer": "ipython3",
   "version": "3.6.8"
  }
 },
 "nbformat": 4,
 "nbformat_minor": 2
}
