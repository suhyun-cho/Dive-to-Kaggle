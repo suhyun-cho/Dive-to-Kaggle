{
 "cells": [
  {
   "cell_type": "markdown",
   "metadata": {},
   "source": [
    "# New York City Taxi Trip Duration\n",
    "Regression: Tabular data\n",
    "\n",
    "### EDA + Baseline Model\n",
    "(참고 커널) https://www.kaggle.com/aiswaryaramachandran/eda-baseline-model-0-40-rmse "
   ]
  },
  {
   "cell_type": "markdown",
   "metadata": {},
   "source": [
    "### Problem and Data Explanation\n",
    "대회목적 : 뉴욕에서의 택시 여행 기간을 예측하는 모델을 만드는것\n",
    "\n",
    "### Data fields\n",
    "* id - a unique identifier for each trip\n",
    "* vendor_id - a code indicating the provider associated with the trip record\n",
    "* pickup_datetime - date and time when the meter was engaged\n",
    "* dropoff_datetime - date and time when the meter was disengaged\n",
    "* passenger_count - the number of passengers in the vehicle (driver entered value)\n",
    "* pickup_longitude - the longitude where the meter was engaged\n",
    "* pickup_latitude - the latitude where the meter was engaged\n",
    "* dropoff_longitude - the longitude where the meter was disengaged\n",
    "* dropoff_latitude - the latitude where the meter was disengaged\n",
    "* store_and_fwd_flag - This flag indicates whether the trip record was held in vehicle memory before sending to the vendor because the vehicle did not have a connection to the server - Y=store and forward; N=not a store and forward trip\n",
    "* trip_duration - duration of the trip in seconds\n"
   ]
  },
  {
   "cell_type": "markdown",
   "metadata": {},
   "source": [
    "### what I learned\n",
    "* map함수, apply함수\n",
    "    * Pandas에서 제공하지 않는 기능, 내가 만든 커스텀함수를 Dataframe에적용할 때\n",
    "    * map함수 : 반드시 Series타입에서만 사용 가능\n",
    "    * apply함수 :커스텀함수를 사용하기 위해 Dataframe에서 복수 개의 컬럼이 필요할 때\n",
    "* Haversine Distance (위도,경도로 거리구하기, 단위:km)\n",
    "* follium, 지리 데이터 시각화 라이브러리\n",
    "* countplot 에서 x축 순서 고정\n",
    "    * sns.countplot(train['pickup_day_of_week'],order=['Monday','Tuesday','Wednesday','Thursday','Friday','Saturday', 'Sunday'])\n",
    "    * 월,화,수,목,금,토,일 순으로"
   ]
  },
  {
   "cell_type": "code",
   "execution_count": 2,
   "metadata": {},
   "outputs": [],
   "source": [
    "import pandas as pd\n",
    "import matplotlib.pyplot as plt\n",
    "import seaborn as sns\n",
    "import numpy as np\n",
    "import warnings\n",
    "from datetime import datetime\n",
    "import calendar\n",
    "from math import sin, cos, sqrt, atan2, radians\n",
    "from folium import FeatureGroup, LayerControl, Map, Marker\n",
    "from folium.plugins import HeatMap\n",
    "import matplotlib.dates as mdates\n",
    "import matplotlib as mpl\n",
    "from datetime import timedelta\n",
    "import datetime as dt\n",
    "warnings.filterwarnings('ignore')\n",
    "pd.set_option('display.max_colwidth', -1)\n",
    "plt.style.use('fivethirtyeight')\n",
    "import folium\n",
    "\n",
    "from sklearn.cluster import KMeans\n",
    "from sklearn import preprocessing\n",
    "from sklearn.model_selection import train_test_split\n",
    "from sklearn.preprocessing import Imputer\n",
    "from sklearn import linear_model\n",
    "from sklearn.metrics import mean_squared_error\n",
    "from sklearn.ensemble import RandomForestRegressor\n",
    "import pickle"
   ]
  },
  {
   "cell_type": "code",
   "execution_count": 3,
   "metadata": {},
   "outputs": [
    {
     "data": {
      "text/plain": [
       "(625134, 9)"
      ]
     },
     "execution_count": 3,
     "metadata": {},
     "output_type": "execute_result"
    }
   ],
   "source": [
    "train=pd.read_csv(\"./train.csv\")\n",
    "test=pd.read_csv(\"./test.csv\")\n",
    "test.shape"
   ]
  },
  {
   "cell_type": "code",
   "execution_count": 4,
   "metadata": {},
   "outputs": [
    {
     "data": {
      "text/plain": [
       "dtype('O')"
      ]
     },
     "execution_count": 4,
     "metadata": {},
     "output_type": "execute_result"
    }
   ],
   "source": [
    "train['pickup_datetime'].dtype"
   ]
  },
  {
   "cell_type": "markdown",
   "metadata": {},
   "source": [
    "###  Convert to appropriate datatype\n",
    "pickup datetime과 dropoff datetime을 date-time object로 변경"
   ]
  },
  {
   "cell_type": "code",
   "execution_count": 5,
   "metadata": {},
   "outputs": [
    {
     "data": {
      "text/html": [
       "<div>\n",
       "<style scoped>\n",
       "    .dataframe tbody tr th:only-of-type {\n",
       "        vertical-align: middle;\n",
       "    }\n",
       "\n",
       "    .dataframe tbody tr th {\n",
       "        vertical-align: top;\n",
       "    }\n",
       "\n",
       "    .dataframe thead th {\n",
       "        text-align: right;\n",
       "    }\n",
       "</style>\n",
       "<table border=\"1\" class=\"dataframe\">\n",
       "  <thead>\n",
       "    <tr style=\"text-align: right;\">\n",
       "      <th></th>\n",
       "      <th>id</th>\n",
       "      <th>vendor_id</th>\n",
       "      <th>pickup_datetime</th>\n",
       "      <th>dropoff_datetime</th>\n",
       "      <th>passenger_count</th>\n",
       "      <th>pickup_longitude</th>\n",
       "      <th>pickup_latitude</th>\n",
       "      <th>dropoff_longitude</th>\n",
       "      <th>dropoff_latitude</th>\n",
       "      <th>store_and_fwd_flag</th>\n",
       "      <th>trip_duration</th>\n",
       "    </tr>\n",
       "  </thead>\n",
       "  <tbody>\n",
       "    <tr>\n",
       "      <th>0</th>\n",
       "      <td>id2875421</td>\n",
       "      <td>2</td>\n",
       "      <td>2016-03-14 17:24:55</td>\n",
       "      <td>2016-03-14 17:32:30</td>\n",
       "      <td>1</td>\n",
       "      <td>-73.982155</td>\n",
       "      <td>40.767937</td>\n",
       "      <td>-73.964630</td>\n",
       "      <td>40.765602</td>\n",
       "      <td>N</td>\n",
       "      <td>455</td>\n",
       "    </tr>\n",
       "    <tr>\n",
       "      <th>1</th>\n",
       "      <td>id2377394</td>\n",
       "      <td>1</td>\n",
       "      <td>2016-06-12 00:43:35</td>\n",
       "      <td>2016-06-12 00:54:38</td>\n",
       "      <td>1</td>\n",
       "      <td>-73.980415</td>\n",
       "      <td>40.738564</td>\n",
       "      <td>-73.999481</td>\n",
       "      <td>40.731152</td>\n",
       "      <td>N</td>\n",
       "      <td>663</td>\n",
       "    </tr>\n",
       "    <tr>\n",
       "      <th>2</th>\n",
       "      <td>id3858529</td>\n",
       "      <td>2</td>\n",
       "      <td>2016-01-19 11:35:24</td>\n",
       "      <td>2016-01-19 12:10:48</td>\n",
       "      <td>1</td>\n",
       "      <td>-73.979027</td>\n",
       "      <td>40.763939</td>\n",
       "      <td>-74.005333</td>\n",
       "      <td>40.710087</td>\n",
       "      <td>N</td>\n",
       "      <td>2124</td>\n",
       "    </tr>\n",
       "    <tr>\n",
       "      <th>3</th>\n",
       "      <td>id3504673</td>\n",
       "      <td>2</td>\n",
       "      <td>2016-04-06 19:32:31</td>\n",
       "      <td>2016-04-06 19:39:40</td>\n",
       "      <td>1</td>\n",
       "      <td>-74.010040</td>\n",
       "      <td>40.719971</td>\n",
       "      <td>-74.012268</td>\n",
       "      <td>40.706718</td>\n",
       "      <td>N</td>\n",
       "      <td>429</td>\n",
       "    </tr>\n",
       "    <tr>\n",
       "      <th>4</th>\n",
       "      <td>id2181028</td>\n",
       "      <td>2</td>\n",
       "      <td>2016-03-26 13:30:55</td>\n",
       "      <td>2016-03-26 13:38:10</td>\n",
       "      <td>1</td>\n",
       "      <td>-73.973053</td>\n",
       "      <td>40.793209</td>\n",
       "      <td>-73.972923</td>\n",
       "      <td>40.782520</td>\n",
       "      <td>N</td>\n",
       "      <td>435</td>\n",
       "    </tr>\n",
       "  </tbody>\n",
       "</table>\n",
       "</div>"
      ],
      "text/plain": [
       "          id  vendor_id     pickup_datetime    dropoff_datetime  \\\n",
       "0  id2875421  2         2016-03-14 17:24:55 2016-03-14 17:32:30   \n",
       "1  id2377394  1         2016-06-12 00:43:35 2016-06-12 00:54:38   \n",
       "2  id3858529  2         2016-01-19 11:35:24 2016-01-19 12:10:48   \n",
       "3  id3504673  2         2016-04-06 19:32:31 2016-04-06 19:39:40   \n",
       "4  id2181028  2         2016-03-26 13:30:55 2016-03-26 13:38:10   \n",
       "\n",
       "   passenger_count  pickup_longitude  pickup_latitude  dropoff_longitude  \\\n",
       "0  1               -73.982155         40.767937       -73.964630           \n",
       "1  1               -73.980415         40.738564       -73.999481           \n",
       "2  1               -73.979027         40.763939       -74.005333           \n",
       "3  1               -74.010040         40.719971       -74.012268           \n",
       "4  1               -73.973053         40.793209       -73.972923           \n",
       "\n",
       "   dropoff_latitude store_and_fwd_flag  trip_duration  \n",
       "0  40.765602         N                  455            \n",
       "1  40.731152         N                  663            \n",
       "2  40.710087         N                  2124           \n",
       "3  40.706718         N                  429            \n",
       "4  40.782520         N                  435            "
      ]
     },
     "execution_count": 5,
     "metadata": {},
     "output_type": "execute_result"
    }
   ],
   "source": [
    "train['pickup_datetime']=pd.to_datetime(train['pickup_datetime'], format='%Y-%m-%d %H:%M:%S')\n",
    "train['dropoff_datetime']=pd.to_datetime(train['dropoff_datetime'], format='%Y-%m-%d %H:%M:%S')\n",
    "train.head()"
   ]
  },
  {
   "cell_type": "code",
   "execution_count": 6,
   "metadata": {},
   "outputs": [
    {
     "data": {
      "text/plain": [
       "dtype('<M8[ns]')"
      ]
     },
     "execution_count": 6,
     "metadata": {},
     "output_type": "execute_result"
    }
   ],
   "source": [
    "train['pickup_datetime'].dtype"
   ]
  },
  {
   "cell_type": "markdown",
   "metadata": {},
   "source": [
    "### Are there any missing values in the data?"
   ]
  },
  {
   "cell_type": "code",
   "execution_count": 7,
   "metadata": {},
   "outputs": [
    {
     "data": {
      "text/plain": [
       "id                    0.0\n",
       "vendor_id             0.0\n",
       "pickup_datetime       0.0\n",
       "dropoff_datetime      0.0\n",
       "passenger_count       0.0\n",
       "pickup_longitude      0.0\n",
       "pickup_latitude       0.0\n",
       "dropoff_longitude     0.0\n",
       "dropoff_latitude      0.0\n",
       "store_and_fwd_flag    0.0\n",
       "trip_duration         0.0\n",
       "dtype: float64"
      ]
     },
     "execution_count": 7,
     "metadata": {},
     "output_type": "execute_result"
    }
   ],
   "source": [
    "train[pd.isnull(train)].sum()"
   ]
  },
  {
   "cell_type": "markdown",
   "metadata": {},
   "source": [
    "missing values는 없는것으로 보임"
   ]
  },
  {
   "cell_type": "markdown",
   "metadata": {},
   "source": [
    "### What is the time period of the dataset?"
   ]
  },
  {
   "cell_type": "code",
   "execution_count": 8,
   "metadata": {},
   "outputs": [
    {
     "name": "stdout",
     "output_type": "stream",
     "text": [
      "Min pickup time: 2016-01-01 00:00:17\n",
      "Max pickup time: 2016-06-30 23:59:39\n"
     ]
    }
   ],
   "source": [
    "print(\"Min pickup time:\", min(train['pickup_datetime']))\n",
    "print(\"Max pickup time:\", max(train['pickup_datetime']))"
   ]
  },
  {
   "cell_type": "markdown",
   "metadata": {},
   "source": [
    "데이터는 2016 1월부터 6월까지 총 6개월치인것을 확인"
   ]
  },
  {
   "cell_type": "markdown",
   "metadata": {},
   "source": [
    "### create new day,month, hour info from Pickup time"
   ]
  },
  {
   "cell_type": "code",
   "execution_count": 9,
   "metadata": {},
   "outputs": [],
   "source": [
    "train['pickup_date'] = train['pickup_datetime'].dt.date\n",
    "train['pickup_day']=train['pickup_datetime'].apply(lambda x:x.day)\n",
    "train['pickup_hour']=train['pickup_datetime'].apply(lambda x:x.hour)\n",
    "train['pickup_day_of_week']=train['pickup_datetime'].apply(lambda x:calendar.day_name[x.weekday()])\n",
    "\n",
    "train['dropoff_date']=train['dropoff_datetime'].dt.date\n",
    "train['dropoff_day']=train['dropoff_datetime'].apply(lambda x:x.day)\n",
    "train['dropoff_hour']=train['dropoff_datetime'].apply(lambda x:x.hour)\n",
    "train['dropoff_day_of_week']=train['dropoff_datetime'].apply(lambda x:calendar.day_name[x.weekday()] )"
   ]
  },
  {
   "cell_type": "markdown",
   "metadata": {},
   "source": [
    "### Round lat lng to 3 decimal places"
   ]
  },
  {
   "cell_type": "code",
   "execution_count": 10,
   "metadata": {},
   "outputs": [
    {
     "data": {
      "text/html": [
       "<div>\n",
       "<style scoped>\n",
       "    .dataframe tbody tr th:only-of-type {\n",
       "        vertical-align: middle;\n",
       "    }\n",
       "\n",
       "    .dataframe tbody tr th {\n",
       "        vertical-align: top;\n",
       "    }\n",
       "\n",
       "    .dataframe thead th {\n",
       "        text-align: right;\n",
       "    }\n",
       "</style>\n",
       "<table border=\"1\" class=\"dataframe\">\n",
       "  <thead>\n",
       "    <tr style=\"text-align: right;\">\n",
       "      <th></th>\n",
       "      <th>id</th>\n",
       "      <th>vendor_id</th>\n",
       "      <th>pickup_datetime</th>\n",
       "      <th>dropoff_datetime</th>\n",
       "      <th>passenger_count</th>\n",
       "      <th>pickup_longitude</th>\n",
       "      <th>pickup_latitude</th>\n",
       "      <th>dropoff_longitude</th>\n",
       "      <th>dropoff_latitude</th>\n",
       "      <th>store_and_fwd_flag</th>\n",
       "      <th>...</th>\n",
       "      <th>pickup_hour</th>\n",
       "      <th>pickup_day_of_week</th>\n",
       "      <th>dropoff_date</th>\n",
       "      <th>dropoff_day</th>\n",
       "      <th>dropoff_hour</th>\n",
       "      <th>dropoff_day_of_week</th>\n",
       "      <th>pickup_latitude_round3</th>\n",
       "      <th>pickup_longitude_round3</th>\n",
       "      <th>dropoff_latitude_round3</th>\n",
       "      <th>dropoff_longitude_round3</th>\n",
       "    </tr>\n",
       "  </thead>\n",
       "  <tbody>\n",
       "    <tr>\n",
       "      <th>0</th>\n",
       "      <td>id2875421</td>\n",
       "      <td>2</td>\n",
       "      <td>2016-03-14 17:24:55</td>\n",
       "      <td>2016-03-14 17:32:30</td>\n",
       "      <td>1</td>\n",
       "      <td>-73.982155</td>\n",
       "      <td>40.767937</td>\n",
       "      <td>-73.964630</td>\n",
       "      <td>40.765602</td>\n",
       "      <td>N</td>\n",
       "      <td>...</td>\n",
       "      <td>17</td>\n",
       "      <td>Monday</td>\n",
       "      <td>2016-03-14</td>\n",
       "      <td>14</td>\n",
       "      <td>17</td>\n",
       "      <td>Monday</td>\n",
       "      <td>40.768</td>\n",
       "      <td>-73.982</td>\n",
       "      <td>40.766</td>\n",
       "      <td>-73.965</td>\n",
       "    </tr>\n",
       "    <tr>\n",
       "      <th>1</th>\n",
       "      <td>id2377394</td>\n",
       "      <td>1</td>\n",
       "      <td>2016-06-12 00:43:35</td>\n",
       "      <td>2016-06-12 00:54:38</td>\n",
       "      <td>1</td>\n",
       "      <td>-73.980415</td>\n",
       "      <td>40.738564</td>\n",
       "      <td>-73.999481</td>\n",
       "      <td>40.731152</td>\n",
       "      <td>N</td>\n",
       "      <td>...</td>\n",
       "      <td>0</td>\n",
       "      <td>Sunday</td>\n",
       "      <td>2016-06-12</td>\n",
       "      <td>12</td>\n",
       "      <td>0</td>\n",
       "      <td>Sunday</td>\n",
       "      <td>40.739</td>\n",
       "      <td>-73.980</td>\n",
       "      <td>40.731</td>\n",
       "      <td>-73.999</td>\n",
       "    </tr>\n",
       "    <tr>\n",
       "      <th>2</th>\n",
       "      <td>id3858529</td>\n",
       "      <td>2</td>\n",
       "      <td>2016-01-19 11:35:24</td>\n",
       "      <td>2016-01-19 12:10:48</td>\n",
       "      <td>1</td>\n",
       "      <td>-73.979027</td>\n",
       "      <td>40.763939</td>\n",
       "      <td>-74.005333</td>\n",
       "      <td>40.710087</td>\n",
       "      <td>N</td>\n",
       "      <td>...</td>\n",
       "      <td>11</td>\n",
       "      <td>Tuesday</td>\n",
       "      <td>2016-01-19</td>\n",
       "      <td>19</td>\n",
       "      <td>12</td>\n",
       "      <td>Tuesday</td>\n",
       "      <td>40.764</td>\n",
       "      <td>-73.979</td>\n",
       "      <td>40.710</td>\n",
       "      <td>-74.005</td>\n",
       "    </tr>\n",
       "    <tr>\n",
       "      <th>3</th>\n",
       "      <td>id3504673</td>\n",
       "      <td>2</td>\n",
       "      <td>2016-04-06 19:32:31</td>\n",
       "      <td>2016-04-06 19:39:40</td>\n",
       "      <td>1</td>\n",
       "      <td>-74.010040</td>\n",
       "      <td>40.719971</td>\n",
       "      <td>-74.012268</td>\n",
       "      <td>40.706718</td>\n",
       "      <td>N</td>\n",
       "      <td>...</td>\n",
       "      <td>19</td>\n",
       "      <td>Wednesday</td>\n",
       "      <td>2016-04-06</td>\n",
       "      <td>6</td>\n",
       "      <td>19</td>\n",
       "      <td>Wednesday</td>\n",
       "      <td>40.720</td>\n",
       "      <td>-74.010</td>\n",
       "      <td>40.707</td>\n",
       "      <td>-74.012</td>\n",
       "    </tr>\n",
       "    <tr>\n",
       "      <th>4</th>\n",
       "      <td>id2181028</td>\n",
       "      <td>2</td>\n",
       "      <td>2016-03-26 13:30:55</td>\n",
       "      <td>2016-03-26 13:38:10</td>\n",
       "      <td>1</td>\n",
       "      <td>-73.973053</td>\n",
       "      <td>40.793209</td>\n",
       "      <td>-73.972923</td>\n",
       "      <td>40.782520</td>\n",
       "      <td>N</td>\n",
       "      <td>...</td>\n",
       "      <td>13</td>\n",
       "      <td>Saturday</td>\n",
       "      <td>2016-03-26</td>\n",
       "      <td>26</td>\n",
       "      <td>13</td>\n",
       "      <td>Saturday</td>\n",
       "      <td>40.793</td>\n",
       "      <td>-73.973</td>\n",
       "      <td>40.783</td>\n",
       "      <td>-73.973</td>\n",
       "    </tr>\n",
       "  </tbody>\n",
       "</table>\n",
       "<p>5 rows × 23 columns</p>\n",
       "</div>"
      ],
      "text/plain": [
       "          id  vendor_id     pickup_datetime    dropoff_datetime  \\\n",
       "0  id2875421  2         2016-03-14 17:24:55 2016-03-14 17:32:30   \n",
       "1  id2377394  1         2016-06-12 00:43:35 2016-06-12 00:54:38   \n",
       "2  id3858529  2         2016-01-19 11:35:24 2016-01-19 12:10:48   \n",
       "3  id3504673  2         2016-04-06 19:32:31 2016-04-06 19:39:40   \n",
       "4  id2181028  2         2016-03-26 13:30:55 2016-03-26 13:38:10   \n",
       "\n",
       "   passenger_count  pickup_longitude  pickup_latitude  dropoff_longitude  \\\n",
       "0  1               -73.982155         40.767937       -73.964630           \n",
       "1  1               -73.980415         40.738564       -73.999481           \n",
       "2  1               -73.979027         40.763939       -74.005333           \n",
       "3  1               -74.010040         40.719971       -74.012268           \n",
       "4  1               -73.973053         40.793209       -73.972923           \n",
       "\n",
       "   dropoff_latitude store_and_fwd_flag  ...  pickup_hour pickup_day_of_week  \\\n",
       "0  40.765602         N                  ...  17           Monday              \n",
       "1  40.731152         N                  ...  0            Sunday              \n",
       "2  40.710087         N                  ...  11           Tuesday             \n",
       "3  40.706718         N                  ...  19           Wednesday           \n",
       "4  40.782520         N                  ...  13           Saturday            \n",
       "\n",
       "   dropoff_date  dropoff_day dropoff_hour dropoff_day_of_week  \\\n",
       "0  2016-03-14    14           17           Monday               \n",
       "1  2016-06-12    12           0            Sunday               \n",
       "2  2016-01-19    19           12           Tuesday              \n",
       "3  2016-04-06    6            19           Wednesday            \n",
       "4  2016-03-26    26           13           Saturday             \n",
       "\n",
       "   pickup_latitude_round3  pickup_longitude_round3 dropoff_latitude_round3  \\\n",
       "0  40.768                 -73.982                   40.766                   \n",
       "1  40.739                 -73.980                   40.731                   \n",
       "2  40.764                 -73.979                   40.710                   \n",
       "3  40.720                 -74.010                   40.707                   \n",
       "4  40.793                 -73.973                   40.783                   \n",
       "\n",
       "   dropoff_longitude_round3  \n",
       "0 -73.965                    \n",
       "1 -73.999                    \n",
       "2 -74.005                    \n",
       "3 -74.012                    \n",
       "4 -73.973                    \n",
       "\n",
       "[5 rows x 23 columns]"
      ]
     },
     "execution_count": 10,
     "metadata": {},
     "output_type": "execute_result"
    }
   ],
   "source": [
    "train['pickup_latitude_round3']=train['pickup_latitude'].apply(lambda x:round(x,3))\n",
    "train['pickup_longitude_round3']=train['pickup_longitude'].apply(lambda x: round(x,3))\n",
    "train['dropoff_latitude_round3']=train['dropoff_latitude'].apply(lambda x:round(x,3))\n",
    "train['dropoff_longitude_round3']=train['dropoff_longitude'].apply(lambda x:round(x,3))\n",
    "train.head()"
   ]
  },
  {
   "cell_type": "markdown",
   "metadata": {},
   "source": [
    "### Based on Latitude and Longitude get the distance of the trip in km\n",
    "This uses Haversine Distance"
   ]
  },
  {
   "cell_type": "code",
   "execution_count": 11,
   "metadata": {},
   "outputs": [],
   "source": [
    "# 거리계산\n",
    "def calculateDistance(row):\n",
    "    R=6373.0\n",
    "    # radian으로 단위 변경 \n",
    "    pickup_lat=radians(row['pickup_latitude'])\n",
    "    pickup_lon=radians(row['pickup_longitude'])\n",
    "    dropoff_lat=radians(row['dropoff_latitude'])\n",
    "    dropoff_lon=radians(row['dropoff_longitude'])\n",
    "    dlon = dropoff_lon - pickup_lon\n",
    "    dlat = dropoff_lat - pickup_lat\n",
    "    a = sin(dlat / 2)**2 + cos(pickup_lat) * cos(dropoff_lat) * sin(dlon / 2)**2\n",
    "    c = 2 * atan2(sqrt(a), sqrt(1 - a))\n",
    "    distance = R * c\n",
    "    return distance\n",
    "    "
   ]
  },
  {
   "cell_type": "code",
   "execution_count": 12,
   "metadata": {},
   "outputs": [
    {
     "data": {
      "text/html": [
       "<div>\n",
       "<style scoped>\n",
       "    .dataframe tbody tr th:only-of-type {\n",
       "        vertical-align: middle;\n",
       "    }\n",
       "\n",
       "    .dataframe tbody tr th {\n",
       "        vertical-align: top;\n",
       "    }\n",
       "\n",
       "    .dataframe thead th {\n",
       "        text-align: right;\n",
       "    }\n",
       "</style>\n",
       "<table border=\"1\" class=\"dataframe\">\n",
       "  <thead>\n",
       "    <tr style=\"text-align: right;\">\n",
       "      <th></th>\n",
       "      <th>id</th>\n",
       "      <th>vendor_id</th>\n",
       "      <th>pickup_datetime</th>\n",
       "      <th>dropoff_datetime</th>\n",
       "      <th>passenger_count</th>\n",
       "      <th>pickup_longitude</th>\n",
       "      <th>pickup_latitude</th>\n",
       "      <th>dropoff_longitude</th>\n",
       "      <th>dropoff_latitude</th>\n",
       "      <th>store_and_fwd_flag</th>\n",
       "      <th>...</th>\n",
       "      <th>pickup_day_of_week</th>\n",
       "      <th>dropoff_date</th>\n",
       "      <th>dropoff_day</th>\n",
       "      <th>dropoff_hour</th>\n",
       "      <th>dropoff_day_of_week</th>\n",
       "      <th>pickup_latitude_round3</th>\n",
       "      <th>pickup_longitude_round3</th>\n",
       "      <th>dropoff_latitude_round3</th>\n",
       "      <th>dropoff_longitude_round3</th>\n",
       "      <th>trip_distance</th>\n",
       "    </tr>\n",
       "  </thead>\n",
       "  <tbody>\n",
       "    <tr>\n",
       "      <th>0</th>\n",
       "      <td>id2875421</td>\n",
       "      <td>2</td>\n",
       "      <td>2016-03-14 17:24:55</td>\n",
       "      <td>2016-03-14 17:32:30</td>\n",
       "      <td>1</td>\n",
       "      <td>-73.982155</td>\n",
       "      <td>40.767937</td>\n",
       "      <td>-73.964630</td>\n",
       "      <td>40.765602</td>\n",
       "      <td>N</td>\n",
       "      <td>...</td>\n",
       "      <td>Monday</td>\n",
       "      <td>2016-03-14</td>\n",
       "      <td>14</td>\n",
       "      <td>17</td>\n",
       "      <td>Monday</td>\n",
       "      <td>40.768</td>\n",
       "      <td>-73.982</td>\n",
       "      <td>40.766</td>\n",
       "      <td>-73.965</td>\n",
       "      <td>1.498991</td>\n",
       "    </tr>\n",
       "    <tr>\n",
       "      <th>1</th>\n",
       "      <td>id2377394</td>\n",
       "      <td>1</td>\n",
       "      <td>2016-06-12 00:43:35</td>\n",
       "      <td>2016-06-12 00:54:38</td>\n",
       "      <td>1</td>\n",
       "      <td>-73.980415</td>\n",
       "      <td>40.738564</td>\n",
       "      <td>-73.999481</td>\n",
       "      <td>40.731152</td>\n",
       "      <td>N</td>\n",
       "      <td>...</td>\n",
       "      <td>Sunday</td>\n",
       "      <td>2016-06-12</td>\n",
       "      <td>12</td>\n",
       "      <td>0</td>\n",
       "      <td>Sunday</td>\n",
       "      <td>40.739</td>\n",
       "      <td>-73.980</td>\n",
       "      <td>40.731</td>\n",
       "      <td>-73.999</td>\n",
       "      <td>1.806074</td>\n",
       "    </tr>\n",
       "    <tr>\n",
       "      <th>2</th>\n",
       "      <td>id3858529</td>\n",
       "      <td>2</td>\n",
       "      <td>2016-01-19 11:35:24</td>\n",
       "      <td>2016-01-19 12:10:48</td>\n",
       "      <td>1</td>\n",
       "      <td>-73.979027</td>\n",
       "      <td>40.763939</td>\n",
       "      <td>-74.005333</td>\n",
       "      <td>40.710087</td>\n",
       "      <td>N</td>\n",
       "      <td>...</td>\n",
       "      <td>Tuesday</td>\n",
       "      <td>2016-01-19</td>\n",
       "      <td>19</td>\n",
       "      <td>12</td>\n",
       "      <td>Tuesday</td>\n",
       "      <td>40.764</td>\n",
       "      <td>-73.979</td>\n",
       "      <td>40.710</td>\n",
       "      <td>-74.005</td>\n",
       "      <td>6.387103</td>\n",
       "    </tr>\n",
       "    <tr>\n",
       "      <th>3</th>\n",
       "      <td>id3504673</td>\n",
       "      <td>2</td>\n",
       "      <td>2016-04-06 19:32:31</td>\n",
       "      <td>2016-04-06 19:39:40</td>\n",
       "      <td>1</td>\n",
       "      <td>-74.010040</td>\n",
       "      <td>40.719971</td>\n",
       "      <td>-74.012268</td>\n",
       "      <td>40.706718</td>\n",
       "      <td>N</td>\n",
       "      <td>...</td>\n",
       "      <td>Wednesday</td>\n",
       "      <td>2016-04-06</td>\n",
       "      <td>6</td>\n",
       "      <td>19</td>\n",
       "      <td>Wednesday</td>\n",
       "      <td>40.720</td>\n",
       "      <td>-74.010</td>\n",
       "      <td>40.707</td>\n",
       "      <td>-74.012</td>\n",
       "      <td>1.485965</td>\n",
       "    </tr>\n",
       "    <tr>\n",
       "      <th>4</th>\n",
       "      <td>id2181028</td>\n",
       "      <td>2</td>\n",
       "      <td>2016-03-26 13:30:55</td>\n",
       "      <td>2016-03-26 13:38:10</td>\n",
       "      <td>1</td>\n",
       "      <td>-73.973053</td>\n",
       "      <td>40.793209</td>\n",
       "      <td>-73.972923</td>\n",
       "      <td>40.782520</td>\n",
       "      <td>N</td>\n",
       "      <td>...</td>\n",
       "      <td>Saturday</td>\n",
       "      <td>2016-03-26</td>\n",
       "      <td>26</td>\n",
       "      <td>13</td>\n",
       "      <td>Saturday</td>\n",
       "      <td>40.793</td>\n",
       "      <td>-73.973</td>\n",
       "      <td>40.783</td>\n",
       "      <td>-73.973</td>\n",
       "      <td>1.188962</td>\n",
       "    </tr>\n",
       "  </tbody>\n",
       "</table>\n",
       "<p>5 rows × 24 columns</p>\n",
       "</div>"
      ],
      "text/plain": [
       "          id  vendor_id     pickup_datetime    dropoff_datetime  \\\n",
       "0  id2875421  2         2016-03-14 17:24:55 2016-03-14 17:32:30   \n",
       "1  id2377394  1         2016-06-12 00:43:35 2016-06-12 00:54:38   \n",
       "2  id3858529  2         2016-01-19 11:35:24 2016-01-19 12:10:48   \n",
       "3  id3504673  2         2016-04-06 19:32:31 2016-04-06 19:39:40   \n",
       "4  id2181028  2         2016-03-26 13:30:55 2016-03-26 13:38:10   \n",
       "\n",
       "   passenger_count  pickup_longitude  pickup_latitude  dropoff_longitude  \\\n",
       "0  1               -73.982155         40.767937       -73.964630           \n",
       "1  1               -73.980415         40.738564       -73.999481           \n",
       "2  1               -73.979027         40.763939       -74.005333           \n",
       "3  1               -74.010040         40.719971       -74.012268           \n",
       "4  1               -73.973053         40.793209       -73.972923           \n",
       "\n",
       "   dropoff_latitude store_and_fwd_flag  ...  pickup_day_of_week dropoff_date  \\\n",
       "0  40.765602         N                  ...  Monday              2016-03-14    \n",
       "1  40.731152         N                  ...  Sunday              2016-06-12    \n",
       "2  40.710087         N                  ...  Tuesday             2016-01-19    \n",
       "3  40.706718         N                  ...  Wednesday           2016-04-06    \n",
       "4  40.782520         N                  ...  Saturday            2016-03-26    \n",
       "\n",
       "   dropoff_day  dropoff_hour dropoff_day_of_week pickup_latitude_round3  \\\n",
       "0  14           17            Monday              40.768                  \n",
       "1  12           0             Sunday              40.739                  \n",
       "2  19           12            Tuesday             40.764                  \n",
       "3  6            19            Wednesday           40.720                  \n",
       "4  26           13            Saturday            40.793                  \n",
       "\n",
       "   pickup_longitude_round3  dropoff_latitude_round3 dropoff_longitude_round3  \\\n",
       "0 -73.982                   40.766                  -73.965                    \n",
       "1 -73.980                   40.731                  -73.999                    \n",
       "2 -73.979                   40.710                  -74.005                    \n",
       "3 -74.010                   40.707                  -74.012                    \n",
       "4 -73.973                   40.783                  -73.973                    \n",
       "\n",
       "   trip_distance  \n",
       "0  1.498991       \n",
       "1  1.806074       \n",
       "2  6.387103       \n",
       "3  1.485965       \n",
       "4  1.188962       \n",
       "\n",
       "[5 rows x 24 columns]"
      ]
     },
     "execution_count": 12,
     "metadata": {},
     "output_type": "execute_result"
    }
   ],
   "source": [
    "train['trip_distance']=train.apply(lambda row:calculateDistance(row),axis=1)\n",
    "train.head()"
   ]
  },
  {
   "cell_type": "code",
   "execution_count": 13,
   "metadata": {},
   "outputs": [
    {
     "data": {
      "text/html": [
       "<div>\n",
       "<style scoped>\n",
       "    .dataframe tbody tr th:only-of-type {\n",
       "        vertical-align: middle;\n",
       "    }\n",
       "\n",
       "    .dataframe tbody tr th {\n",
       "        vertical-align: top;\n",
       "    }\n",
       "\n",
       "    .dataframe thead th {\n",
       "        text-align: right;\n",
       "    }\n",
       "</style>\n",
       "<table border=\"1\" class=\"dataframe\">\n",
       "  <thead>\n",
       "    <tr style=\"text-align: right;\">\n",
       "      <th></th>\n",
       "      <th>id</th>\n",
       "      <th>vendor_id</th>\n",
       "      <th>pickup_datetime</th>\n",
       "      <th>dropoff_datetime</th>\n",
       "      <th>passenger_count</th>\n",
       "      <th>pickup_longitude</th>\n",
       "      <th>pickup_latitude</th>\n",
       "      <th>dropoff_longitude</th>\n",
       "      <th>dropoff_latitude</th>\n",
       "      <th>store_and_fwd_flag</th>\n",
       "      <th>...</th>\n",
       "      <th>dropoff_date</th>\n",
       "      <th>dropoff_day</th>\n",
       "      <th>dropoff_hour</th>\n",
       "      <th>dropoff_day_of_week</th>\n",
       "      <th>pickup_latitude_round3</th>\n",
       "      <th>pickup_longitude_round3</th>\n",
       "      <th>dropoff_latitude_round3</th>\n",
       "      <th>dropoff_longitude_round3</th>\n",
       "      <th>trip_distance</th>\n",
       "      <th>trip_duration_in_hour</th>\n",
       "    </tr>\n",
       "  </thead>\n",
       "  <tbody>\n",
       "    <tr>\n",
       "      <th>0</th>\n",
       "      <td>id2875421</td>\n",
       "      <td>2</td>\n",
       "      <td>2016-03-14 17:24:55</td>\n",
       "      <td>2016-03-14 17:32:30</td>\n",
       "      <td>1</td>\n",
       "      <td>-73.982155</td>\n",
       "      <td>40.767937</td>\n",
       "      <td>-73.964630</td>\n",
       "      <td>40.765602</td>\n",
       "      <td>N</td>\n",
       "      <td>...</td>\n",
       "      <td>2016-03-14</td>\n",
       "      <td>14</td>\n",
       "      <td>17</td>\n",
       "      <td>Monday</td>\n",
       "      <td>40.768</td>\n",
       "      <td>-73.982</td>\n",
       "      <td>40.766</td>\n",
       "      <td>-73.965</td>\n",
       "      <td>1.498991</td>\n",
       "      <td>0.126389</td>\n",
       "    </tr>\n",
       "    <tr>\n",
       "      <th>1</th>\n",
       "      <td>id2377394</td>\n",
       "      <td>1</td>\n",
       "      <td>2016-06-12 00:43:35</td>\n",
       "      <td>2016-06-12 00:54:38</td>\n",
       "      <td>1</td>\n",
       "      <td>-73.980415</td>\n",
       "      <td>40.738564</td>\n",
       "      <td>-73.999481</td>\n",
       "      <td>40.731152</td>\n",
       "      <td>N</td>\n",
       "      <td>...</td>\n",
       "      <td>2016-06-12</td>\n",
       "      <td>12</td>\n",
       "      <td>0</td>\n",
       "      <td>Sunday</td>\n",
       "      <td>40.739</td>\n",
       "      <td>-73.980</td>\n",
       "      <td>40.731</td>\n",
       "      <td>-73.999</td>\n",
       "      <td>1.806074</td>\n",
       "      <td>0.184167</td>\n",
       "    </tr>\n",
       "    <tr>\n",
       "      <th>2</th>\n",
       "      <td>id3858529</td>\n",
       "      <td>2</td>\n",
       "      <td>2016-01-19 11:35:24</td>\n",
       "      <td>2016-01-19 12:10:48</td>\n",
       "      <td>1</td>\n",
       "      <td>-73.979027</td>\n",
       "      <td>40.763939</td>\n",
       "      <td>-74.005333</td>\n",
       "      <td>40.710087</td>\n",
       "      <td>N</td>\n",
       "      <td>...</td>\n",
       "      <td>2016-01-19</td>\n",
       "      <td>19</td>\n",
       "      <td>12</td>\n",
       "      <td>Tuesday</td>\n",
       "      <td>40.764</td>\n",
       "      <td>-73.979</td>\n",
       "      <td>40.710</td>\n",
       "      <td>-74.005</td>\n",
       "      <td>6.387103</td>\n",
       "      <td>0.590000</td>\n",
       "    </tr>\n",
       "    <tr>\n",
       "      <th>3</th>\n",
       "      <td>id3504673</td>\n",
       "      <td>2</td>\n",
       "      <td>2016-04-06 19:32:31</td>\n",
       "      <td>2016-04-06 19:39:40</td>\n",
       "      <td>1</td>\n",
       "      <td>-74.010040</td>\n",
       "      <td>40.719971</td>\n",
       "      <td>-74.012268</td>\n",
       "      <td>40.706718</td>\n",
       "      <td>N</td>\n",
       "      <td>...</td>\n",
       "      <td>2016-04-06</td>\n",
       "      <td>6</td>\n",
       "      <td>19</td>\n",
       "      <td>Wednesday</td>\n",
       "      <td>40.720</td>\n",
       "      <td>-74.010</td>\n",
       "      <td>40.707</td>\n",
       "      <td>-74.012</td>\n",
       "      <td>1.485965</td>\n",
       "      <td>0.119167</td>\n",
       "    </tr>\n",
       "    <tr>\n",
       "      <th>4</th>\n",
       "      <td>id2181028</td>\n",
       "      <td>2</td>\n",
       "      <td>2016-03-26 13:30:55</td>\n",
       "      <td>2016-03-26 13:38:10</td>\n",
       "      <td>1</td>\n",
       "      <td>-73.973053</td>\n",
       "      <td>40.793209</td>\n",
       "      <td>-73.972923</td>\n",
       "      <td>40.782520</td>\n",
       "      <td>N</td>\n",
       "      <td>...</td>\n",
       "      <td>2016-03-26</td>\n",
       "      <td>26</td>\n",
       "      <td>13</td>\n",
       "      <td>Saturday</td>\n",
       "      <td>40.793</td>\n",
       "      <td>-73.973</td>\n",
       "      <td>40.783</td>\n",
       "      <td>-73.973</td>\n",
       "      <td>1.188962</td>\n",
       "      <td>0.120833</td>\n",
       "    </tr>\n",
       "  </tbody>\n",
       "</table>\n",
       "<p>5 rows × 25 columns</p>\n",
       "</div>"
      ],
      "text/plain": [
       "          id  vendor_id     pickup_datetime    dropoff_datetime  \\\n",
       "0  id2875421  2         2016-03-14 17:24:55 2016-03-14 17:32:30   \n",
       "1  id2377394  1         2016-06-12 00:43:35 2016-06-12 00:54:38   \n",
       "2  id3858529  2         2016-01-19 11:35:24 2016-01-19 12:10:48   \n",
       "3  id3504673  2         2016-04-06 19:32:31 2016-04-06 19:39:40   \n",
       "4  id2181028  2         2016-03-26 13:30:55 2016-03-26 13:38:10   \n",
       "\n",
       "   passenger_count  pickup_longitude  pickup_latitude  dropoff_longitude  \\\n",
       "0  1               -73.982155         40.767937       -73.964630           \n",
       "1  1               -73.980415         40.738564       -73.999481           \n",
       "2  1               -73.979027         40.763939       -74.005333           \n",
       "3  1               -74.010040         40.719971       -74.012268           \n",
       "4  1               -73.973053         40.793209       -73.972923           \n",
       "\n",
       "   dropoff_latitude store_and_fwd_flag  ...  dropoff_date dropoff_day  \\\n",
       "0  40.765602         N                  ...  2016-03-14    14           \n",
       "1  40.731152         N                  ...  2016-06-12    12           \n",
       "2  40.710087         N                  ...  2016-01-19    19           \n",
       "3  40.706718         N                  ...  2016-04-06    6            \n",
       "4  40.782520         N                  ...  2016-03-26    26           \n",
       "\n",
       "   dropoff_hour  dropoff_day_of_week pickup_latitude_round3  \\\n",
       "0  17            Monday               40.768                  \n",
       "1  0             Sunday               40.739                  \n",
       "2  12            Tuesday              40.764                  \n",
       "3  19            Wednesday            40.720                  \n",
       "4  13            Saturday             40.793                  \n",
       "\n",
       "  pickup_longitude_round3  dropoff_latitude_round3  dropoff_longitude_round3  \\\n",
       "0 -73.982                  40.766                  -73.965                     \n",
       "1 -73.980                  40.731                  -73.999                     \n",
       "2 -73.979                  40.710                  -74.005                     \n",
       "3 -74.010                  40.707                  -74.012                     \n",
       "4 -73.973                  40.783                  -73.973                     \n",
       "\n",
       "  trip_distance  trip_duration_in_hour  \n",
       "0  1.498991      0.126389               \n",
       "1  1.806074      0.184167               \n",
       "2  6.387103      0.590000               \n",
       "3  1.485965      0.119167               \n",
       "4  1.188962      0.120833               \n",
       "\n",
       "[5 rows x 25 columns]"
      ]
     },
     "execution_count": 13,
     "metadata": {},
     "output_type": "execute_result"
    }
   ],
   "source": [
    "# 1시간당 duration\n",
    "train['trip_duration_in_hour']=train['trip_duration'].apply(lambda x: x/3600)\n",
    "train.head()"
   ]
  },
  {
   "cell_type": "markdown",
   "metadata": {},
   "source": [
    "### Exploratory Analysis"
   ]
  },
  {
   "cell_type": "code",
   "execution_count": 14,
   "metadata": {},
   "outputs": [
    {
     "data": {
      "text/plain": [
       "Text(0.5, 0, 'Trip Duration (in hour)')"
      ]
     },
     "execution_count": 14,
     "metadata": {},
     "output_type": "execute_result"
    },
    {
     "data": {
      "image/png": "[encoded data removed]",
      "text/plain": [
       "<Figure size 576x360 with 1 Axes>"
      ]
     },
     "metadata": {
      "needs_background": "light"
     },
     "output_type": "display_data"
    }
   ],
   "source": [
    "plt.figure(figsize=(8,5))\n",
    "sns.distplot(train['trip_duration_in_hour']).set_title('Distribution of Trip Duration')\n",
    "plt.xlabel('Trip Duration (in hour)')"
   ]
  },
  {
   "cell_type": "markdown",
   "metadata": {},
   "source": [
    "trip duration이 24시간 이상인 경우가 있다. 이는 이상치"
   ]
  },
  {
   "cell_type": "code",
   "execution_count": 15,
   "metadata": {},
   "outputs": [
    {
     "data": {
      "text/html": [
       "<div>\n",
       "<style scoped>\n",
       "    .dataframe tbody tr th:only-of-type {\n",
       "        vertical-align: middle;\n",
       "    }\n",
       "\n",
       "    .dataframe tbody tr th {\n",
       "        vertical-align: top;\n",
       "    }\n",
       "\n",
       "    .dataframe thead th {\n",
       "        text-align: right;\n",
       "    }\n",
       "</style>\n",
       "<table border=\"1\" class=\"dataframe\">\n",
       "  <thead>\n",
       "    <tr style=\"text-align: right;\">\n",
       "      <th></th>\n",
       "      <th>id</th>\n",
       "      <th>vendor_id</th>\n",
       "      <th>pickup_datetime</th>\n",
       "      <th>dropoff_datetime</th>\n",
       "      <th>passenger_count</th>\n",
       "      <th>pickup_longitude</th>\n",
       "      <th>pickup_latitude</th>\n",
       "      <th>dropoff_longitude</th>\n",
       "      <th>dropoff_latitude</th>\n",
       "      <th>store_and_fwd_flag</th>\n",
       "      <th>...</th>\n",
       "      <th>dropoff_date</th>\n",
       "      <th>dropoff_day</th>\n",
       "      <th>dropoff_hour</th>\n",
       "      <th>dropoff_day_of_week</th>\n",
       "      <th>pickup_latitude_round3</th>\n",
       "      <th>pickup_longitude_round3</th>\n",
       "      <th>dropoff_latitude_round3</th>\n",
       "      <th>dropoff_longitude_round3</th>\n",
       "      <th>trip_distance</th>\n",
       "      <th>trip_duration_in_hour</th>\n",
       "    </tr>\n",
       "  </thead>\n",
       "  <tbody>\n",
       "    <tr>\n",
       "      <th>355003</th>\n",
       "      <td>id1864733</td>\n",
       "      <td>1</td>\n",
       "      <td>2016-01-05 00:19:42</td>\n",
       "      <td>2016-01-27 11:08:38</td>\n",
       "      <td>1</td>\n",
       "      <td>-73.789650</td>\n",
       "      <td>40.643559</td>\n",
       "      <td>-73.956810</td>\n",
       "      <td>40.773087</td>\n",
       "      <td>N</td>\n",
       "      <td>...</td>\n",
       "      <td>2016-01-27</td>\n",
       "      <td>27</td>\n",
       "      <td>11</td>\n",
       "      <td>Wednesday</td>\n",
       "      <td>40.644</td>\n",
       "      <td>-73.790</td>\n",
       "      <td>40.773</td>\n",
       "      <td>-73.957</td>\n",
       "      <td>20.154989</td>\n",
       "      <td>538.815556</td>\n",
       "    </tr>\n",
       "    <tr>\n",
       "      <th>680594</th>\n",
       "      <td>id0369307</td>\n",
       "      <td>1</td>\n",
       "      <td>2016-02-13 22:38:00</td>\n",
       "      <td>2016-03-08 15:57:38</td>\n",
       "      <td>2</td>\n",
       "      <td>-73.921677</td>\n",
       "      <td>40.735252</td>\n",
       "      <td>-73.984749</td>\n",
       "      <td>40.759979</td>\n",
       "      <td>N</td>\n",
       "      <td>...</td>\n",
       "      <td>2016-03-08</td>\n",
       "      <td>8</td>\n",
       "      <td>15</td>\n",
       "      <td>Tuesday</td>\n",
       "      <td>40.735</td>\n",
       "      <td>-73.922</td>\n",
       "      <td>40.760</td>\n",
       "      <td>-73.985</td>\n",
       "      <td>5.984365</td>\n",
       "      <td>569.327222</td>\n",
       "    </tr>\n",
       "    <tr>\n",
       "      <th>924150</th>\n",
       "      <td>id1325766</td>\n",
       "      <td>1</td>\n",
       "      <td>2016-01-05 06:14:15</td>\n",
       "      <td>2016-01-31 01:01:07</td>\n",
       "      <td>1</td>\n",
       "      <td>-73.983788</td>\n",
       "      <td>40.742325</td>\n",
       "      <td>-73.985489</td>\n",
       "      <td>40.727676</td>\n",
       "      <td>N</td>\n",
       "      <td>...</td>\n",
       "      <td>2016-01-31</td>\n",
       "      <td>31</td>\n",
       "      <td>1</td>\n",
       "      <td>Sunday</td>\n",
       "      <td>40.742</td>\n",
       "      <td>-73.984</td>\n",
       "      <td>40.728</td>\n",
       "      <td>-73.985</td>\n",
       "      <td>1.635641</td>\n",
       "      <td>618.781111</td>\n",
       "    </tr>\n",
       "    <tr>\n",
       "      <th>978383</th>\n",
       "      <td>id0053347</td>\n",
       "      <td>1</td>\n",
       "      <td>2016-02-13 22:46:52</td>\n",
       "      <td>2016-03-25 18:18:14</td>\n",
       "      <td>1</td>\n",
       "      <td>-73.783905</td>\n",
       "      <td>40.648632</td>\n",
       "      <td>-73.978271</td>\n",
       "      <td>40.750202</td>\n",
       "      <td>N</td>\n",
       "      <td>...</td>\n",
       "      <td>2016-03-25</td>\n",
       "      <td>25</td>\n",
       "      <td>18</td>\n",
       "      <td>Friday</td>\n",
       "      <td>40.649</td>\n",
       "      <td>-73.784</td>\n",
       "      <td>40.750</td>\n",
       "      <td>-73.978</td>\n",
       "      <td>19.906909</td>\n",
       "      <td>979.522778</td>\n",
       "    </tr>\n",
       "  </tbody>\n",
       "</table>\n",
       "<p>4 rows × 25 columns</p>\n",
       "</div>"
      ],
      "text/plain": [
       "               id  vendor_id     pickup_datetime    dropoff_datetime  \\\n",
       "355003  id1864733  1         2016-01-05 00:19:42 2016-01-27 11:08:38   \n",
       "680594  id0369307  1         2016-02-13 22:38:00 2016-03-08 15:57:38   \n",
       "924150  id1325766  1         2016-01-05 06:14:15 2016-01-31 01:01:07   \n",
       "978383  id0053347  1         2016-02-13 22:46:52 2016-03-25 18:18:14   \n",
       "\n",
       "        passenger_count  pickup_longitude  pickup_latitude  dropoff_longitude  \\\n",
       "355003  1               -73.789650         40.643559       -73.956810           \n",
       "680594  2               -73.921677         40.735252       -73.984749           \n",
       "924150  1               -73.983788         40.742325       -73.985489           \n",
       "978383  1               -73.783905         40.648632       -73.978271           \n",
       "\n",
       "        dropoff_latitude store_and_fwd_flag  ...  dropoff_date dropoff_day  \\\n",
       "355003  40.773087         N                  ...  2016-01-27    27           \n",
       "680594  40.759979         N                  ...  2016-03-08    8            \n",
       "924150  40.727676         N                  ...  2016-01-31    31           \n",
       "978383  40.750202         N                  ...  2016-03-25    25           \n",
       "\n",
       "        dropoff_hour  dropoff_day_of_week pickup_latitude_round3  \\\n",
       "355003  11            Wednesday            40.644                  \n",
       "680594  15            Tuesday              40.735                  \n",
       "924150  1             Sunday               40.742                  \n",
       "978383  18            Friday               40.649                  \n",
       "\n",
       "       pickup_longitude_round3  dropoff_latitude_round3  \\\n",
       "355003 -73.790                  40.773                    \n",
       "680594 -73.922                  40.760                    \n",
       "924150 -73.984                  40.728                    \n",
       "978383 -73.784                  40.750                    \n",
       "\n",
       "        dropoff_longitude_round3 trip_distance  trip_duration_in_hour  \n",
       "355003 -73.957                    20.154989     538.815556             \n",
       "680594 -73.985                    5.984365      569.327222             \n",
       "924150 -73.985                    1.635641      618.781111             \n",
       "978383 -73.978                    19.906909     979.522778             \n",
       "\n",
       "[4 rows x 25 columns]"
      ]
     },
     "execution_count": 15,
     "metadata": {},
     "output_type": "execute_result"
    }
   ],
   "source": [
    "outlier_trip_duration=train.loc[train['trip_duration_in_hour']>24]\n",
    "outlier_trip_duration"
   ]
  },
  {
   "cell_type": "markdown",
   "metadata": {},
   "source": [
    "distace travelled가 굉장히 낮다. 이것들은 outlier임.<br>\n",
    "이 trip이 어디서 시작했고 끝났는지에 대한 특정 location이 있나? <br>\n",
    "Trip duration은 skewed하므로, log변환을 하겠다. <br>\n",
    "\n",
    "우리는 이것또한 test data의 일부이므로 제거하지 않겠다."
   ]
  },
  {
   "cell_type": "code",
   "execution_count": 16,
   "metadata": {},
   "outputs": [
    {
     "data": {
      "text/plain": [
       "Text(0.5, 1.0, 'Distribution of trip duration (sec) in Log Scale')"
      ]
     },
     "execution_count": 16,
     "metadata": {},
     "output_type": "execute_result"
    },
    {
     "data": {
      "image/png": "[encoded data removed]",
      "text/plain": [
       "<Figure size 576x360 with 1 Axes>"
      ]
     },
     "metadata": {
      "needs_background": "light"
     },
     "output_type": "display_data"
    }
   ],
   "source": [
    "plt.figure(figsize=(8,5))\n",
    "sns.distplot(np.log(train['trip_duration'].values)).set_title('Distribution of Trip Duration')\n",
    "plt.title(\"Distribution of trip duration (sec) in Log Scale\")"
   ]
  },
  {
   "cell_type": "markdown",
   "metadata": {},
   "source": [
    "trip duration을 log변환시킨 결과는 정규분포 형태이다.<br>\n",
    "대부분의 trip은 54 sec (exp(4)) 과 2980 sec (exp(8)) 사이에 있다. <br>\n",
    "이는 대부분의 trip이 1시간 이내라는 것을 의미한다. 하지만, trip이 1분보다도 적은 경우도 있기 때문에 자세하게 살펴볼 필요가 있다.  <br>\n",
    "trip이 100시간 지속된다는것은 taxi rides로서 이상하다."
   ]
  },
  {
   "cell_type": "markdown",
   "metadata": {},
   "source": [
    "### Heatmap of common locations from where pickup and dropoff occurs"
   ]
  },
  {
   "cell_type": "code",
   "execution_count": 43,
   "metadata": {},
   "outputs": [],
   "source": [
    "# pickup 위도,경도가 같은 id를 카운트\n",
    "pickup=train.groupby(['pickup_latitude_round3','pickup_longitude_round3'])['id'].count().reset_index().rename(columns={'id':'Num_Trips'})"
   ]
  },
  {
   "cell_type": "code",
   "execution_count": 44,
   "metadata": {},
   "outputs": [],
   "source": [
    "pickup_map = folium.Map(location = [40.730610,-73.935242],zoom_start = 10,)\n",
    "#print(pickup.shape)\n",
    "### For each pickup point add a circlemarker\n",
    "'''\n",
    "for index, row in pickup.iterrows():\n",
    "    \n",
    "    folium.CircleMarker([row['pickup_latitude_round3'], row['pickup_longitude_round3']],\n",
    "                        radius=3,\n",
    "                        \n",
    "                        fill_color=\"#3db7e4\", \n",
    "                        fill_opacity=0.9\n",
    "                       ).add_to(pickup_map)\n",
    "    count=count + 1\n",
    "\n",
    "\n",
    "'''\n",
    "\n",
    "hm_wide = HeatMap( list(zip(pickup.pickup_latitude_round3.values, pickup.pickup_longitude_round3.values, pickup.Num_Trips.values)),\n",
    "                     min_opacity=0.2,\n",
    "                     radius=5, blur=15,\n",
    "                     max_zoom=1 \n",
    "                 )\n",
    "# pickup_map.add_child(hm_wide)\n",
    "\n",
    "# pickup_map"
   ]
  },
  {
   "cell_type": "code",
   "execution_count": 19,
   "metadata": {},
   "outputs": [
    {
     "data": {
      "text/plain": [
       "(-74.03, -73.75)"
      ]
     },
     "execution_count": 19,
     "metadata": {},
     "output_type": "execute_result"
    },
    {
     "data": {
      "image/png": "[encoded data removed]",
      "text/plain": [
       "<Figure size 432x288 with 1 Axes>"
      ]
     },
     "metadata": {
      "needs_background": "light"
     },
     "output_type": "display_data"
    }
   ],
   "source": [
    "city_long_border = (-74.03, -73.75)\n",
    "city_lat_border = (40.63, 40.85)\n",
    "fig, ax = plt.subplots(ncols=1, sharex=True, sharey=True)\n",
    "ax.scatter(train['pickup_longitude'], train['pickup_latitude'],\n",
    "              color='blue', label='train', alpha=0.1)\n",
    "\n",
    "fig.suptitle('Lat Lng of Pickups in Train Data as Scatter Plot')\n",
    "\n",
    "ax.set_ylabel('latitude')\n",
    "ax.set_xlabel('longitude')\n",
    "plt.ylim(city_lat_border)\n",
    "plt.xlim(city_long_border)"
   ]
  },
  {
   "cell_type": "markdown",
   "metadata": {},
   "source": [
    "이 그래프는 JFK근처에 pickup이 많다는 것을 보여줌."
   ]
  },
  {
   "cell_type": "code",
   "execution_count": 20,
   "metadata": {},
   "outputs": [],
   "source": [
    "drop=train.groupby(['dropoff_latitude_round3','dropoff_longitude_round3'])['id'].count().reset_index().rename(columns={'id':'Num_Trips'})"
   ]
  },
  {
   "cell_type": "code",
   "execution_count": 40,
   "metadata": {},
   "outputs": [],
   "source": [
    "drop_map = folium.Map(location = [40.730610,-73.935242],zoom_start = 10,)\n",
    "hm_wide = HeatMap( list(zip(drop.dropoff_latitude_round3.values, drop.dropoff_longitude_round3.values, drop.Num_Trips.values)),\n",
    "                     min_opacity=0.2,\n",
    "                     radius=5, blur=15,\n",
    "                     max_zoom=1 \n",
    "                 )\n",
    "# drop_map.add_child(hm_wide)\n",
    "# drop_map"
   ]
  },
  {
   "cell_type": "code",
   "execution_count": 22,
   "metadata": {},
   "outputs": [],
   "source": [
    "pickup=train.groupby(['pickup_latitude_round3','pickup_longitude_round3'])['trip_duration'].mean().reset_index().rename(columns={'trip_duration':'Avg_Trip_duration'})"
   ]
  },
  {
   "cell_type": "code",
   "execution_count": 41,
   "metadata": {},
   "outputs": [],
   "source": [
    "pickup_map = folium.Map(location = [40.730610,-73.935242],zoom_start = 10,)\n",
    "\n",
    "\n",
    "hm_wide = HeatMap( list(zip(pickup.pickup_latitude_round3.values, pickup.pickup_longitude_round3.values, pickup.Avg_Trip_duration.values)),\n",
    "                     min_opacity=0.2,\n",
    "                     radius=7, blur=15,\n",
    "                     max_zoom=1 \n",
    "                 )\n",
    "# pickup_map.add_child(hm_wide)\n",
    "# pickup_map"
   ]
  },
  {
   "cell_type": "markdown",
   "metadata": {},
   "source": [
    "trip이 JFK로부터 온경우, 평균 trip duration이 더 높다. <br>\n",
    "zoom in 해보면, Manhattan이후에 JFK로부터 pickup이 trip duration이 더 높은 경향이 있다. "
   ]
  },
  {
   "cell_type": "markdown",
   "metadata": {},
   "source": [
    "### Which hours are pickup and dropoff higher?\n",
    "어느 시간대에 pickup과 dropoff가 높은지 확인"
   ]
  },
  {
   "cell_type": "code",
   "execution_count": 24,
   "metadata": {},
   "outputs": [
    {
     "data": {
      "text/plain": [
       "Text(0.5, 1.0, 'Pickup Hours Distribution')"
      ]
     },
     "execution_count": 24,
     "metadata": {},
     "output_type": "execute_result"
    },
    {
     "data": {
      "image/png": "[encoded data removed]",
      "text/plain": [
       "<Figure size 576x360 with 1 Axes>"
      ]
     },
     "metadata": {
      "needs_background": "light"
     },
     "output_type": "display_data"
    }
   ],
   "source": [
    "plt.figure(figsize=(8,5))\n",
    "sns.countplot(x=train['pickup_hour']).set_title(\"Pickup Hours Distribution\")"
   ]
  },
  {
   "cell_type": "markdown",
   "metadata": {},
   "source": [
    "이른 아침에는 pickup이 훨씬 낮다. 오후6시에서 8시 사이가 가장 높다."
   ]
  },
  {
   "cell_type": "code",
   "execution_count": 25,
   "metadata": {},
   "outputs": [
    {
     "data": {
      "text/plain": [
       "Text(0.5, 1.0, 'Dropoff Hours Distribution')"
      ]
     },
     "execution_count": 25,
     "metadata": {},
     "output_type": "execute_result"
    },
    {
     "data": {
      "image/png": "[encoded data removed]",
      "text/plain": [
       "<Figure size 576x360 with 1 Axes>"
      ]
     },
     "metadata": {
      "needs_background": "light"
     },
     "output_type": "display_data"
    }
   ],
   "source": [
    "plt.figure(figsize=(8,5))\n",
    "sns.countplot(x=train['dropoff_hour']).set_title(\"Dropoff Hours Distribution\")"
   ]
  },
  {
   "cell_type": "markdown",
   "metadata": {},
   "source": [
    "dropoff 의 분포도 pickup과 유사하다."
   ]
  },
  {
   "cell_type": "markdown",
   "metadata": {},
   "source": [
    "### Pickups over the entire time period"
   ]
  },
  {
   "cell_type": "code",
   "execution_count": 26,
   "metadata": {},
   "outputs": [
    {
     "data": {
      "text/plain": [
       "Text(0.5, 1.0, 'Distribution of Pickups over time')"
      ]
     },
     "execution_count": 26,
     "metadata": {},
     "output_type": "execute_result"
    },
    {
     "data": {
      "image/png": "[encoded data removed]",
      "text/plain": [
       "<Figure size 576x360 with 1 Axes>"
      ]
     },
     "metadata": {
      "needs_background": "light"
     },
     "output_type": "display_data"
    }
   ],
   "source": [
    "plt.figure(figsize=(8,5))\n",
    "plt.plot(train.groupby('pickup_date').count()[['id']], 'o-', label='train')\n",
    "plt.title(\"Distribution of Pickups over time\")"
   ]
  },
  {
   "cell_type": "markdown",
   "metadata": {},
   "source": [
    "2016 1월말에 pickup이 뚝 떨어진 부분이 보임."
   ]
  },
  {
   "cell_type": "markdown",
   "metadata": {},
   "source": [
    "### What is the distribution of Trip distance"
   ]
  },
  {
   "cell_type": "code",
   "execution_count": 27,
   "metadata": {},
   "outputs": [
    {
     "data": {
      "text/plain": [
       "Text(0.5, 0, 'Trip Distance(log)')"
      ]
     },
     "execution_count": 27,
     "metadata": {},
     "output_type": "execute_result"
    },
    {
     "data": {
      "image/png": "[encoded data removed]",
      "text/plain": [
       "<Figure size 576x360 with 1 Axes>"
      ]
     },
     "metadata": {
      "needs_background": "light"
     },
     "output_type": "display_data"
    }
   ],
   "source": [
    "plt.figure(figsize=(8,5))\n",
    "sns.kdeplot(np.log(train['trip_distance'].values)).set_title(\"Trip Distance Distribution\")\n",
    "plt.xlabel('Trip Distance(log)')"
   ]
  },
  {
   "cell_type": "markdown",
   "metadata": {},
   "source": [
    "### Trip Duration vs Trip Distance"
   ]
  },
  {
   "cell_type": "code",
   "execution_count": 30,
   "metadata": {},
   "outputs": [
    {
     "data": {
      "text/plain": [
       "Text(0, 0.5, 'Trip Duration (log scale)')"
      ]
     },
     "execution_count": 30,
     "metadata": {},
     "output_type": "execute_result"
    },
    {
     "data": {
      "image/png": "[encoded data removed]",
      "text/plain": [
       "<Figure size 432x288 with 1 Axes>"
      ]
     },
     "metadata": {
      "needs_background": "light"
     },
     "output_type": "display_data"
    }
   ],
   "source": [
    "plt.scatter(np.log(train['trip_distance'].values), np.log(train['trip_duration'].values),\n",
    "              color='blue', label='train')\n",
    "plt.title(\"Distribution of Trip Distance vs Trip Duration\")\n",
    "plt.xlabel(\"Trip Distance (log scale)\")\n",
    "plt.ylabel(\"Trip Duration (log scale)\")"
   ]
  },
  {
   "cell_type": "markdown",
   "metadata": {},
   "source": [
    "### Is the trip duration higher at different hours?\n",
    "trip 시간이 시간대별로 다른지확인"
   ]
  },
  {
   "cell_type": "code",
   "execution_count": 33,
   "metadata": {},
   "outputs": [
    {
     "data": {
      "text/plain": [
       "[<matplotlib.lines.Line2D at 0x1a2b50cc18>]"
      ]
     },
     "execution_count": 33,
     "metadata": {},
     "output_type": "execute_result"
    },
    {
     "data": {
      "image/png": "[encoded data removed]",
      "text/plain": [
       "<Figure size 576x360 with 1 Axes>"
      ]
     },
     "metadata": {
      "needs_background": "light"
     },
     "output_type": "display_data"
    }
   ],
   "source": [
    "avg_duration_hour=train.groupby(['pickup_hour'])['trip_duration'].mean().reset_index().rename(columns={'trip_duration':'avg_trip_duration'})\n",
    "plt.figure(figsize=(8,5))\n",
    "plt.plot(train.groupby(['pickup_hour'])['trip_duration'].mean(),'o-')"
   ]
  },
  {
   "cell_type": "markdown",
   "metadata": {},
   "source": [
    "trip duraton이 10시와 15시 사이에 증가하는것으로 보임."
   ]
  },
  {
   "cell_type": "markdown",
   "metadata": {},
   "source": [
    "### Distribution of Pickups across Days\n",
    "요일별로 pickup 분포"
   ]
  },
  {
   "cell_type": "code",
   "execution_count": 36,
   "metadata": {},
   "outputs": [
    {
     "data": {
      "text/plain": [
       "<matplotlib.axes._subplots.AxesSubplot at 0x1a2f4ee4a8>"
      ]
     },
     "execution_count": 36,
     "metadata": {},
     "output_type": "execute_result"
    },
    {
     "data": {
      "image/png": "[encoded data removed]",
      "text/plain": [
       "<Figure size 576x360 with 1 Axes>"
      ]
     },
     "metadata": {
      "needs_background": "light"
     },
     "output_type": "display_data"
    }
   ],
   "source": [
    "plt.figure(figsize=(8,5))\n",
    "sns.countplot(train['pickup_day_of_week'],order=['Monday','Tuesday','Wednesday','Thursday','Friday','Saturday', 'Sunday'])"
   ]
  },
  {
   "cell_type": "markdown",
   "metadata": {},
   "source": [
    "월요일에 pickup의 수가 가장 낮고, 화요일에서 금요일로 갈수록 pickup수 증가"
   ]
  },
  {
   "cell_type": "markdown",
   "metadata": {},
   "source": [
    "### Avg Trip Duration over Days of week\n",
    "요일별 평균 trip duration"
   ]
  },
  {
   "cell_type": "code",
   "execution_count": 37,
   "metadata": {},
   "outputs": [],
   "source": [
    "avg_duration_day=train.groupby(['pickup_day_of_week'])['trip_duration'].mean().reset_index().rename(columns={'trip_duration':'avg_trip_duration'})"
   ]
  },
  {
   "cell_type": "code",
   "execution_count": 39,
   "metadata": {},
   "outputs": [
    {
     "data": {
      "text/plain": [
       "Text(0.5, 1.0, 'Avg Trip Duration vs Pickup Days of Week')"
      ]
     },
     "execution_count": 39,
     "metadata": {},
     "output_type": "execute_result"
    },
    {
     "data": {
      "image/png": "[encoded data removed]",
      "text/plain": [
       "<Figure size 576x360 with 1 Axes>"
      ]
     },
     "metadata": {
      "needs_background": "light"
     },
     "output_type": "display_data"
    }
   ],
   "source": [
    "plt.figure(figsize=(8,5))\n",
    "sns.barplot(x='pickup_day_of_week',y='avg_trip_duration',data=avg_duration_day,order=['Monday','Tuesday','Wednesday','Thursday','Friday','Saturday', 'Sunday']).set_title(\"Avg Trip Duration vs Pickup Days of Week\")"
   ]
  },
  {
   "cell_type": "markdown",
   "metadata": {},
   "source": [
    "목요일이 평균 trip duration이 가장 높다."
   ]
  },
  {
   "cell_type": "markdown",
   "metadata": {},
   "source": [
    "### Create a caluclated field Bearing"
   ]
  },
  {
   "cell_type": "code",
   "execution_count": null,
   "metadata": {},
   "outputs": [],
   "source": []
  },
  {
   "cell_type": "code",
   "execution_count": null,
   "metadata": {},
   "outputs": [],
   "source": []
  },
  {
   "cell_type": "code",
   "execution_count": null,
   "metadata": {},
   "outputs": [],
   "source": []
  },
  {
   "cell_type": "code",
   "execution_count": null,
   "metadata": {},
   "outputs": [],
   "source": []
  },
  {
   "cell_type": "code",
   "execution_count": null,
   "metadata": {},
   "outputs": [],
   "source": []
  },
  {
   "cell_type": "code",
   "execution_count": null,
   "metadata": {},
   "outputs": [],
   "source": []
  }
 ],
 "metadata": {
  "kernelspec": {
   "display_name": "Python 3",
   "language": "python",
   "name": "python3"
  },
  "language_info": {
   "codemirror_mode": {
    "name": "ipython",
    "version": 3
   },
   "file_extension": ".py",
   "mimetype": "text/x-python",
   "name": "python",
   "nbconvert_exporter": "python",
   "pygments_lexer": "ipython3",
   "version": "3.7.3"
  }
 },
 "nbformat": 4,
 "nbformat_minor": 2
}
